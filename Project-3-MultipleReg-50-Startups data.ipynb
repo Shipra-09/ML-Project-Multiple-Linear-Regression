{
 "cells": [
  {
   "cell_type": "markdown",
   "id": "7d2752ab",
   "metadata": {},
   "source": [
    "## Project 3: 50 Startups "
   ]
  },
  {
   "cell_type": "markdown",
   "id": "463765e2",
   "metadata": {},
   "source": [
    "Objective - Is to prepare a prediction model for Profit earned in the startups from different states using spending amount"
   ]
  },
  {
   "cell_type": "code",
   "execution_count": 1,
   "id": "c5c413b6",
   "metadata": {},
   "outputs": [],
   "source": [
    "import pandas as pd\n",
    "import numpy as np\n",
    "import matplotlib.pyplot as plt\n",
    "import seaborn as sns "
   ]
  },
  {
   "cell_type": "code",
   "execution_count": 2,
   "id": "34cdbc71",
   "metadata": {},
   "outputs": [
    {
     "data": {
      "text/html": [
       "<div>\n",
       "<style scoped>\n",
       "    .dataframe tbody tr th:only-of-type {\n",
       "        vertical-align: middle;\n",
       "    }\n",
       "\n",
       "    .dataframe tbody tr th {\n",
       "        vertical-align: top;\n",
       "    }\n",
       "\n",
       "    .dataframe thead th {\n",
       "        text-align: right;\n",
       "    }\n",
       "</style>\n",
       "<table border=\"1\" class=\"dataframe\">\n",
       "  <thead>\n",
       "    <tr style=\"text-align: right;\">\n",
       "      <th></th>\n",
       "      <th>R&amp;D Spend</th>\n",
       "      <th>Administration</th>\n",
       "      <th>Marketing Spend</th>\n",
       "      <th>State</th>\n",
       "      <th>Profit</th>\n",
       "    </tr>\n",
       "  </thead>\n",
       "  <tbody>\n",
       "    <tr>\n",
       "      <th>0</th>\n",
       "      <td>165349.20</td>\n",
       "      <td>136897.80</td>\n",
       "      <td>471784.10</td>\n",
       "      <td>New York</td>\n",
       "      <td>192261.83</td>\n",
       "    </tr>\n",
       "    <tr>\n",
       "      <th>1</th>\n",
       "      <td>162597.70</td>\n",
       "      <td>151377.59</td>\n",
       "      <td>443898.53</td>\n",
       "      <td>California</td>\n",
       "      <td>191792.06</td>\n",
       "    </tr>\n",
       "    <tr>\n",
       "      <th>2</th>\n",
       "      <td>153441.51</td>\n",
       "      <td>101145.55</td>\n",
       "      <td>407934.54</td>\n",
       "      <td>Florida</td>\n",
       "      <td>191050.39</td>\n",
       "    </tr>\n",
       "    <tr>\n",
       "      <th>3</th>\n",
       "      <td>144372.41</td>\n",
       "      <td>118671.85</td>\n",
       "      <td>383199.62</td>\n",
       "      <td>New York</td>\n",
       "      <td>182901.99</td>\n",
       "    </tr>\n",
       "    <tr>\n",
       "      <th>4</th>\n",
       "      <td>142107.34</td>\n",
       "      <td>91391.77</td>\n",
       "      <td>366168.42</td>\n",
       "      <td>Florida</td>\n",
       "      <td>166187.94</td>\n",
       "    </tr>\n",
       "  </tbody>\n",
       "</table>\n",
       "</div>"
      ],
      "text/plain": [
       "   R&D Spend  Administration  Marketing Spend       State     Profit\n",
       "0  165349.20       136897.80        471784.10    New York  192261.83\n",
       "1  162597.70       151377.59        443898.53  California  191792.06\n",
       "2  153441.51       101145.55        407934.54     Florida  191050.39\n",
       "3  144372.41       118671.85        383199.62    New York  182901.99\n",
       "4  142107.34        91391.77        366168.42     Florida  166187.94"
      ]
     },
     "execution_count": 2,
     "metadata": {},
     "output_type": "execute_result"
    }
   ],
   "source": [
    "data=pd.read_csv('D:/TOPMENTOR-DS/Lectures/Class 20-29th-Oct/b88assignments/Project - 3&4_Multiple_Reg/50_Startups.csv')\n",
    "data.head()"
   ]
  },
  {
   "cell_type": "code",
   "execution_count": 4,
   "id": "bd531101",
   "metadata": {},
   "outputs": [
    {
     "data": {
      "text/html": [
       "<div>\n",
       "<style scoped>\n",
       "    .dataframe tbody tr th:only-of-type {\n",
       "        vertical-align: middle;\n",
       "    }\n",
       "\n",
       "    .dataframe tbody tr th {\n",
       "        vertical-align: top;\n",
       "    }\n",
       "\n",
       "    .dataframe thead th {\n",
       "        text-align: right;\n",
       "    }\n",
       "</style>\n",
       "<table border=\"1\" class=\"dataframe\">\n",
       "  <thead>\n",
       "    <tr style=\"text-align: right;\">\n",
       "      <th></th>\n",
       "      <th>R&amp;D Spend</th>\n",
       "      <th>Administration</th>\n",
       "      <th>Marketing Spend</th>\n",
       "      <th>State</th>\n",
       "      <th>Profit</th>\n",
       "    </tr>\n",
       "  </thead>\n",
       "  <tbody>\n",
       "    <tr>\n",
       "      <th>0</th>\n",
       "      <td>165349.20</td>\n",
       "      <td>136897.80</td>\n",
       "      <td>471784.10</td>\n",
       "      <td>New York</td>\n",
       "      <td>192261.83</td>\n",
       "    </tr>\n",
       "    <tr>\n",
       "      <th>1</th>\n",
       "      <td>162597.70</td>\n",
       "      <td>151377.59</td>\n",
       "      <td>443898.53</td>\n",
       "      <td>California</td>\n",
       "      <td>191792.06</td>\n",
       "    </tr>\n",
       "    <tr>\n",
       "      <th>2</th>\n",
       "      <td>153441.51</td>\n",
       "      <td>101145.55</td>\n",
       "      <td>407934.54</td>\n",
       "      <td>Florida</td>\n",
       "      <td>191050.39</td>\n",
       "    </tr>\n",
       "    <tr>\n",
       "      <th>3</th>\n",
       "      <td>144372.41</td>\n",
       "      <td>118671.85</td>\n",
       "      <td>383199.62</td>\n",
       "      <td>New York</td>\n",
       "      <td>182901.99</td>\n",
       "    </tr>\n",
       "    <tr>\n",
       "      <th>4</th>\n",
       "      <td>142107.34</td>\n",
       "      <td>91391.77</td>\n",
       "      <td>366168.42</td>\n",
       "      <td>Florida</td>\n",
       "      <td>166187.94</td>\n",
       "    </tr>\n",
       "    <tr>\n",
       "      <th>5</th>\n",
       "      <td>131876.90</td>\n",
       "      <td>99814.71</td>\n",
       "      <td>362861.36</td>\n",
       "      <td>New York</td>\n",
       "      <td>156991.12</td>\n",
       "    </tr>\n",
       "    <tr>\n",
       "      <th>6</th>\n",
       "      <td>134615.46</td>\n",
       "      <td>147198.87</td>\n",
       "      <td>127716.82</td>\n",
       "      <td>California</td>\n",
       "      <td>156122.51</td>\n",
       "    </tr>\n",
       "    <tr>\n",
       "      <th>7</th>\n",
       "      <td>130298.13</td>\n",
       "      <td>145530.06</td>\n",
       "      <td>323876.68</td>\n",
       "      <td>Florida</td>\n",
       "      <td>155752.60</td>\n",
       "    </tr>\n",
       "    <tr>\n",
       "      <th>8</th>\n",
       "      <td>120542.52</td>\n",
       "      <td>148718.95</td>\n",
       "      <td>311613.29</td>\n",
       "      <td>New York</td>\n",
       "      <td>152211.77</td>\n",
       "    </tr>\n",
       "    <tr>\n",
       "      <th>9</th>\n",
       "      <td>123334.88</td>\n",
       "      <td>108679.17</td>\n",
       "      <td>304981.62</td>\n",
       "      <td>California</td>\n",
       "      <td>149759.96</td>\n",
       "    </tr>\n",
       "    <tr>\n",
       "      <th>10</th>\n",
       "      <td>101913.08</td>\n",
       "      <td>110594.11</td>\n",
       "      <td>229160.95</td>\n",
       "      <td>Florida</td>\n",
       "      <td>146121.95</td>\n",
       "    </tr>\n",
       "    <tr>\n",
       "      <th>11</th>\n",
       "      <td>100671.96</td>\n",
       "      <td>91790.61</td>\n",
       "      <td>249744.55</td>\n",
       "      <td>California</td>\n",
       "      <td>144259.40</td>\n",
       "    </tr>\n",
       "    <tr>\n",
       "      <th>12</th>\n",
       "      <td>93863.75</td>\n",
       "      <td>127320.38</td>\n",
       "      <td>249839.44</td>\n",
       "      <td>Florida</td>\n",
       "      <td>141585.52</td>\n",
       "    </tr>\n",
       "    <tr>\n",
       "      <th>13</th>\n",
       "      <td>91992.39</td>\n",
       "      <td>135495.07</td>\n",
       "      <td>252664.93</td>\n",
       "      <td>California</td>\n",
       "      <td>134307.35</td>\n",
       "    </tr>\n",
       "    <tr>\n",
       "      <th>14</th>\n",
       "      <td>119943.24</td>\n",
       "      <td>156547.42</td>\n",
       "      <td>256512.92</td>\n",
       "      <td>Florida</td>\n",
       "      <td>132602.65</td>\n",
       "    </tr>\n",
       "    <tr>\n",
       "      <th>15</th>\n",
       "      <td>114523.61</td>\n",
       "      <td>122616.84</td>\n",
       "      <td>261776.23</td>\n",
       "      <td>New York</td>\n",
       "      <td>129917.04</td>\n",
       "    </tr>\n",
       "    <tr>\n",
       "      <th>16</th>\n",
       "      <td>78013.11</td>\n",
       "      <td>121597.55</td>\n",
       "      <td>264346.06</td>\n",
       "      <td>California</td>\n",
       "      <td>126992.93</td>\n",
       "    </tr>\n",
       "    <tr>\n",
       "      <th>17</th>\n",
       "      <td>94657.16</td>\n",
       "      <td>145077.58</td>\n",
       "      <td>282574.31</td>\n",
       "      <td>New York</td>\n",
       "      <td>125370.37</td>\n",
       "    </tr>\n",
       "    <tr>\n",
       "      <th>18</th>\n",
       "      <td>91749.16</td>\n",
       "      <td>114175.79</td>\n",
       "      <td>294919.57</td>\n",
       "      <td>Florida</td>\n",
       "      <td>124266.90</td>\n",
       "    </tr>\n",
       "    <tr>\n",
       "      <th>19</th>\n",
       "      <td>86419.70</td>\n",
       "      <td>153514.11</td>\n",
       "      <td>0.00</td>\n",
       "      <td>New York</td>\n",
       "      <td>122776.86</td>\n",
       "    </tr>\n",
       "    <tr>\n",
       "      <th>20</th>\n",
       "      <td>76253.86</td>\n",
       "      <td>113867.30</td>\n",
       "      <td>298664.47</td>\n",
       "      <td>California</td>\n",
       "      <td>118474.03</td>\n",
       "    </tr>\n",
       "    <tr>\n",
       "      <th>21</th>\n",
       "      <td>78389.47</td>\n",
       "      <td>153773.43</td>\n",
       "      <td>299737.29</td>\n",
       "      <td>New York</td>\n",
       "      <td>111313.02</td>\n",
       "    </tr>\n",
       "    <tr>\n",
       "      <th>22</th>\n",
       "      <td>73994.56</td>\n",
       "      <td>122782.75</td>\n",
       "      <td>303319.26</td>\n",
       "      <td>Florida</td>\n",
       "      <td>110352.25</td>\n",
       "    </tr>\n",
       "    <tr>\n",
       "      <th>23</th>\n",
       "      <td>67532.53</td>\n",
       "      <td>105751.03</td>\n",
       "      <td>304768.73</td>\n",
       "      <td>Florida</td>\n",
       "      <td>108733.99</td>\n",
       "    </tr>\n",
       "    <tr>\n",
       "      <th>24</th>\n",
       "      <td>77044.01</td>\n",
       "      <td>99281.34</td>\n",
       "      <td>140574.81</td>\n",
       "      <td>New York</td>\n",
       "      <td>108552.04</td>\n",
       "    </tr>\n",
       "    <tr>\n",
       "      <th>25</th>\n",
       "      <td>64664.71</td>\n",
       "      <td>139553.16</td>\n",
       "      <td>137962.62</td>\n",
       "      <td>California</td>\n",
       "      <td>107404.34</td>\n",
       "    </tr>\n",
       "    <tr>\n",
       "      <th>26</th>\n",
       "      <td>75328.87</td>\n",
       "      <td>144135.98</td>\n",
       "      <td>134050.07</td>\n",
       "      <td>Florida</td>\n",
       "      <td>105733.54</td>\n",
       "    </tr>\n",
       "    <tr>\n",
       "      <th>27</th>\n",
       "      <td>72107.60</td>\n",
       "      <td>127864.55</td>\n",
       "      <td>353183.81</td>\n",
       "      <td>New York</td>\n",
       "      <td>105008.31</td>\n",
       "    </tr>\n",
       "    <tr>\n",
       "      <th>28</th>\n",
       "      <td>66051.52</td>\n",
       "      <td>182645.56</td>\n",
       "      <td>118148.20</td>\n",
       "      <td>Florida</td>\n",
       "      <td>103282.38</td>\n",
       "    </tr>\n",
       "    <tr>\n",
       "      <th>29</th>\n",
       "      <td>65605.48</td>\n",
       "      <td>153032.06</td>\n",
       "      <td>107138.38</td>\n",
       "      <td>New York</td>\n",
       "      <td>101004.64</td>\n",
       "    </tr>\n",
       "    <tr>\n",
       "      <th>30</th>\n",
       "      <td>61994.48</td>\n",
       "      <td>115641.28</td>\n",
       "      <td>91131.24</td>\n",
       "      <td>Florida</td>\n",
       "      <td>99937.59</td>\n",
       "    </tr>\n",
       "    <tr>\n",
       "      <th>31</th>\n",
       "      <td>61136.38</td>\n",
       "      <td>152701.92</td>\n",
       "      <td>88218.23</td>\n",
       "      <td>New York</td>\n",
       "      <td>97483.56</td>\n",
       "    </tr>\n",
       "    <tr>\n",
       "      <th>32</th>\n",
       "      <td>63408.86</td>\n",
       "      <td>129219.61</td>\n",
       "      <td>46085.25</td>\n",
       "      <td>California</td>\n",
       "      <td>97427.84</td>\n",
       "    </tr>\n",
       "    <tr>\n",
       "      <th>33</th>\n",
       "      <td>55493.95</td>\n",
       "      <td>103057.49</td>\n",
       "      <td>214634.81</td>\n",
       "      <td>Florida</td>\n",
       "      <td>96778.92</td>\n",
       "    </tr>\n",
       "    <tr>\n",
       "      <th>34</th>\n",
       "      <td>46426.07</td>\n",
       "      <td>157693.92</td>\n",
       "      <td>210797.67</td>\n",
       "      <td>California</td>\n",
       "      <td>96712.80</td>\n",
       "    </tr>\n",
       "    <tr>\n",
       "      <th>35</th>\n",
       "      <td>46014.02</td>\n",
       "      <td>85047.44</td>\n",
       "      <td>205517.64</td>\n",
       "      <td>New York</td>\n",
       "      <td>96479.51</td>\n",
       "    </tr>\n",
       "    <tr>\n",
       "      <th>36</th>\n",
       "      <td>28663.76</td>\n",
       "      <td>127056.21</td>\n",
       "      <td>201126.82</td>\n",
       "      <td>Florida</td>\n",
       "      <td>90708.19</td>\n",
       "    </tr>\n",
       "    <tr>\n",
       "      <th>37</th>\n",
       "      <td>44069.95</td>\n",
       "      <td>51283.14</td>\n",
       "      <td>197029.42</td>\n",
       "      <td>California</td>\n",
       "      <td>89949.14</td>\n",
       "    </tr>\n",
       "    <tr>\n",
       "      <th>38</th>\n",
       "      <td>20229.59</td>\n",
       "      <td>65947.93</td>\n",
       "      <td>185265.10</td>\n",
       "      <td>New York</td>\n",
       "      <td>81229.06</td>\n",
       "    </tr>\n",
       "    <tr>\n",
       "      <th>39</th>\n",
       "      <td>38558.51</td>\n",
       "      <td>82982.09</td>\n",
       "      <td>174999.30</td>\n",
       "      <td>California</td>\n",
       "      <td>81005.76</td>\n",
       "    </tr>\n",
       "    <tr>\n",
       "      <th>40</th>\n",
       "      <td>28754.33</td>\n",
       "      <td>118546.05</td>\n",
       "      <td>172795.67</td>\n",
       "      <td>California</td>\n",
       "      <td>78239.91</td>\n",
       "    </tr>\n",
       "    <tr>\n",
       "      <th>41</th>\n",
       "      <td>27892.92</td>\n",
       "      <td>84710.77</td>\n",
       "      <td>164470.71</td>\n",
       "      <td>Florida</td>\n",
       "      <td>77798.83</td>\n",
       "    </tr>\n",
       "    <tr>\n",
       "      <th>42</th>\n",
       "      <td>23640.93</td>\n",
       "      <td>96189.63</td>\n",
       "      <td>148001.11</td>\n",
       "      <td>California</td>\n",
       "      <td>71498.49</td>\n",
       "    </tr>\n",
       "    <tr>\n",
       "      <th>43</th>\n",
       "      <td>15505.73</td>\n",
       "      <td>127382.30</td>\n",
       "      <td>35534.17</td>\n",
       "      <td>New York</td>\n",
       "      <td>69758.98</td>\n",
       "    </tr>\n",
       "    <tr>\n",
       "      <th>44</th>\n",
       "      <td>22177.74</td>\n",
       "      <td>154806.14</td>\n",
       "      <td>28334.72</td>\n",
       "      <td>California</td>\n",
       "      <td>65200.33</td>\n",
       "    </tr>\n",
       "    <tr>\n",
       "      <th>45</th>\n",
       "      <td>1000.23</td>\n",
       "      <td>124153.04</td>\n",
       "      <td>1903.93</td>\n",
       "      <td>New York</td>\n",
       "      <td>64926.08</td>\n",
       "    </tr>\n",
       "    <tr>\n",
       "      <th>46</th>\n",
       "      <td>1315.46</td>\n",
       "      <td>115816.21</td>\n",
       "      <td>297114.46</td>\n",
       "      <td>Florida</td>\n",
       "      <td>49490.75</td>\n",
       "    </tr>\n",
       "    <tr>\n",
       "      <th>47</th>\n",
       "      <td>0.00</td>\n",
       "      <td>135426.92</td>\n",
       "      <td>0.00</td>\n",
       "      <td>California</td>\n",
       "      <td>42559.73</td>\n",
       "    </tr>\n",
       "    <tr>\n",
       "      <th>48</th>\n",
       "      <td>542.05</td>\n",
       "      <td>51743.15</td>\n",
       "      <td>0.00</td>\n",
       "      <td>New York</td>\n",
       "      <td>35673.41</td>\n",
       "    </tr>\n",
       "    <tr>\n",
       "      <th>49</th>\n",
       "      <td>0.00</td>\n",
       "      <td>116983.80</td>\n",
       "      <td>45173.06</td>\n",
       "      <td>California</td>\n",
       "      <td>14681.40</td>\n",
       "    </tr>\n",
       "  </tbody>\n",
       "</table>\n",
       "</div>"
      ],
      "text/plain": [
       "    R&D Spend  Administration  Marketing Spend       State     Profit\n",
       "0   165349.20       136897.80        471784.10    New York  192261.83\n",
       "1   162597.70       151377.59        443898.53  California  191792.06\n",
       "2   153441.51       101145.55        407934.54     Florida  191050.39\n",
       "3   144372.41       118671.85        383199.62    New York  182901.99\n",
       "4   142107.34        91391.77        366168.42     Florida  166187.94\n",
       "5   131876.90        99814.71        362861.36    New York  156991.12\n",
       "6   134615.46       147198.87        127716.82  California  156122.51\n",
       "7   130298.13       145530.06        323876.68     Florida  155752.60\n",
       "8   120542.52       148718.95        311613.29    New York  152211.77\n",
       "9   123334.88       108679.17        304981.62  California  149759.96\n",
       "10  101913.08       110594.11        229160.95     Florida  146121.95\n",
       "11  100671.96        91790.61        249744.55  California  144259.40\n",
       "12   93863.75       127320.38        249839.44     Florida  141585.52\n",
       "13   91992.39       135495.07        252664.93  California  134307.35\n",
       "14  119943.24       156547.42        256512.92     Florida  132602.65\n",
       "15  114523.61       122616.84        261776.23    New York  129917.04\n",
       "16   78013.11       121597.55        264346.06  California  126992.93\n",
       "17   94657.16       145077.58        282574.31    New York  125370.37\n",
       "18   91749.16       114175.79        294919.57     Florida  124266.90\n",
       "19   86419.70       153514.11             0.00    New York  122776.86\n",
       "20   76253.86       113867.30        298664.47  California  118474.03\n",
       "21   78389.47       153773.43        299737.29    New York  111313.02\n",
       "22   73994.56       122782.75        303319.26     Florida  110352.25\n",
       "23   67532.53       105751.03        304768.73     Florida  108733.99\n",
       "24   77044.01        99281.34        140574.81    New York  108552.04\n",
       "25   64664.71       139553.16        137962.62  California  107404.34\n",
       "26   75328.87       144135.98        134050.07     Florida  105733.54\n",
       "27   72107.60       127864.55        353183.81    New York  105008.31\n",
       "28   66051.52       182645.56        118148.20     Florida  103282.38\n",
       "29   65605.48       153032.06        107138.38    New York  101004.64\n",
       "30   61994.48       115641.28         91131.24     Florida   99937.59\n",
       "31   61136.38       152701.92         88218.23    New York   97483.56\n",
       "32   63408.86       129219.61         46085.25  California   97427.84\n",
       "33   55493.95       103057.49        214634.81     Florida   96778.92\n",
       "34   46426.07       157693.92        210797.67  California   96712.80\n",
       "35   46014.02        85047.44        205517.64    New York   96479.51\n",
       "36   28663.76       127056.21        201126.82     Florida   90708.19\n",
       "37   44069.95        51283.14        197029.42  California   89949.14\n",
       "38   20229.59        65947.93        185265.10    New York   81229.06\n",
       "39   38558.51        82982.09        174999.30  California   81005.76\n",
       "40   28754.33       118546.05        172795.67  California   78239.91\n",
       "41   27892.92        84710.77        164470.71     Florida   77798.83\n",
       "42   23640.93        96189.63        148001.11  California   71498.49\n",
       "43   15505.73       127382.30         35534.17    New York   69758.98\n",
       "44   22177.74       154806.14         28334.72  California   65200.33\n",
       "45    1000.23       124153.04          1903.93    New York   64926.08\n",
       "46    1315.46       115816.21        297114.46     Florida   49490.75\n",
       "47       0.00       135426.92             0.00  California   42559.73\n",
       "48     542.05        51743.15             0.00    New York   35673.41\n",
       "49       0.00       116983.80         45173.06  California   14681.40"
      ]
     },
     "execution_count": 4,
     "metadata": {},
     "output_type": "execute_result"
    }
   ],
   "source": [
    "df=data.copy()\n",
    "df"
   ]
  },
  {
   "cell_type": "code",
   "execution_count": 5,
   "id": "21504270",
   "metadata": {},
   "outputs": [
    {
     "data": {
      "text/html": [
       "<div>\n",
       "<style scoped>\n",
       "    .dataframe tbody tr th:only-of-type {\n",
       "        vertical-align: middle;\n",
       "    }\n",
       "\n",
       "    .dataframe tbody tr th {\n",
       "        vertical-align: top;\n",
       "    }\n",
       "\n",
       "    .dataframe thead th {\n",
       "        text-align: right;\n",
       "    }\n",
       "</style>\n",
       "<table border=\"1\" class=\"dataframe\">\n",
       "  <thead>\n",
       "    <tr style=\"text-align: right;\">\n",
       "      <th></th>\n",
       "      <th>R&amp;D Spend</th>\n",
       "      <th>Administration</th>\n",
       "      <th>Marketing Spend</th>\n",
       "      <th>State</th>\n",
       "      <th>Profit</th>\n",
       "      <th>Total_Spending</th>\n",
       "    </tr>\n",
       "  </thead>\n",
       "  <tbody>\n",
       "    <tr>\n",
       "      <th>0</th>\n",
       "      <td>165349.20</td>\n",
       "      <td>136897.80</td>\n",
       "      <td>471784.10</td>\n",
       "      <td>New York</td>\n",
       "      <td>192261.83</td>\n",
       "      <td>774031.10</td>\n",
       "    </tr>\n",
       "    <tr>\n",
       "      <th>1</th>\n",
       "      <td>162597.70</td>\n",
       "      <td>151377.59</td>\n",
       "      <td>443898.53</td>\n",
       "      <td>California</td>\n",
       "      <td>191792.06</td>\n",
       "      <td>757873.82</td>\n",
       "    </tr>\n",
       "    <tr>\n",
       "      <th>2</th>\n",
       "      <td>153441.51</td>\n",
       "      <td>101145.55</td>\n",
       "      <td>407934.54</td>\n",
       "      <td>Florida</td>\n",
       "      <td>191050.39</td>\n",
       "      <td>662521.60</td>\n",
       "    </tr>\n",
       "    <tr>\n",
       "      <th>3</th>\n",
       "      <td>144372.41</td>\n",
       "      <td>118671.85</td>\n",
       "      <td>383199.62</td>\n",
       "      <td>New York</td>\n",
       "      <td>182901.99</td>\n",
       "      <td>646243.88</td>\n",
       "    </tr>\n",
       "    <tr>\n",
       "      <th>4</th>\n",
       "      <td>142107.34</td>\n",
       "      <td>91391.77</td>\n",
       "      <td>366168.42</td>\n",
       "      <td>Florida</td>\n",
       "      <td>166187.94</td>\n",
       "      <td>599667.53</td>\n",
       "    </tr>\n",
       "  </tbody>\n",
       "</table>\n",
       "</div>"
      ],
      "text/plain": [
       "   R&D Spend  Administration  Marketing Spend       State     Profit  \\\n",
       "0  165349.20       136897.80        471784.10    New York  192261.83   \n",
       "1  162597.70       151377.59        443898.53  California  191792.06   \n",
       "2  153441.51       101145.55        407934.54     Florida  191050.39   \n",
       "3  144372.41       118671.85        383199.62    New York  182901.99   \n",
       "4  142107.34        91391.77        366168.42     Florida  166187.94   \n",
       "\n",
       "   Total_Spending  \n",
       "0       774031.10  \n",
       "1       757873.82  \n",
       "2       662521.60  \n",
       "3       646243.88  \n",
       "4       599667.53  "
      ]
     },
     "execution_count": 5,
     "metadata": {},
     "output_type": "execute_result"
    }
   ],
   "source": [
    "df['Total_Spending']=df['R&D Spend']+df['Administration']+df['Marketing Spend']\n",
    "df.head()"
   ]
  },
  {
   "cell_type": "code",
   "execution_count": 7,
   "id": "701179ae",
   "metadata": {},
   "outputs": [
    {
     "data": {
      "text/plain": [
       "array(['New York', 'California', 'Florida'], dtype=object)"
      ]
     },
     "execution_count": 7,
     "metadata": {},
     "output_type": "execute_result"
    }
   ],
   "source": [
    "df['State'].unique()"
   ]
  },
  {
   "cell_type": "code",
   "execution_count": 8,
   "id": "8bd0fabc",
   "metadata": {},
   "outputs": [
    {
     "data": {
      "text/plain": [
       "(50, 6)"
      ]
     },
     "execution_count": 8,
     "metadata": {},
     "output_type": "execute_result"
    }
   ],
   "source": [
    "df.shape"
   ]
  },
  {
   "cell_type": "markdown",
   "id": "f6b8f8c3",
   "metadata": {},
   "source": [
    "## Exploratory Data Analysis"
   ]
  },
  {
   "cell_type": "code",
   "execution_count": 10,
   "id": "294e83fa",
   "metadata": {},
   "outputs": [
    {
     "data": {
      "image/png": "[encoded data removed]",
      "text/plain": [
       "<Figure size 1000x300 with 1 Axes>"
      ]
     },
     "metadata": {},
     "output_type": "display_data"
    }
   ],
   "source": [
    "## variation of R&D spend with the profit earned\n",
    "plt.figure(figsize=(10,3))\n",
    "sns.lineplot(x='R&D Spend',y='Profit',data=df)\n",
    "plt.savefig('R&D wise Profit.jpg',bbox_inches='tight',dpi=200)"
   ]
  },
  {
   "cell_type": "markdown",
   "id": "1856ada5",
   "metadata": {},
   "source": [
    "Increase in the R&D spending results in enahnced profit"
   ]
  },
  {
   "cell_type": "code",
   "execution_count": 11,
   "id": "cda28954",
   "metadata": {},
   "outputs": [
    {
     "data": {
      "image/png": "[encoded data removed]",
      "text/plain": [
       "<Figure size 1000x300 with 1 Axes>"
      ]
     },
     "metadata": {},
     "output_type": "display_data"
    }
   ],
   "source": [
    "## variation of Administration with the profit earned\n",
    "plt.figure(figsize=(10,3))\n",
    "sns.lineplot(x='Administration',y='Profit',data=df)\n",
    "plt.savefig('Admin wise Profit.jpg',bbox_inches='tight',dpi=200)"
   ]
  },
  {
   "cell_type": "markdown",
   "id": "9804a857",
   "metadata": {},
   "source": [
    "1. The data is abrupt and does not tells about the clearer picture. \n",
    "2. The profit of the startup does not depends upon the adminitration spending. "
   ]
  },
  {
   "cell_type": "code",
   "execution_count": 12,
   "id": "923f3023",
   "metadata": {},
   "outputs": [
    {
     "data": {
      "image/png": "[encoded data removed]",
      "text/plain": [
       "<Figure size 1000x300 with 1 Axes>"
      ]
     },
     "metadata": {},
     "output_type": "display_data"
    }
   ],
   "source": [
    "## variation of Marketing spend with the profit earned\n",
    "plt.figure(figsize=(10,3))\n",
    "sns.lineplot(x='Marketing Spend',y='Profit',data=df)\n",
    "plt.savefig('Marketing wise Profit.jpg',bbox_inches='tight',dpi=200)"
   ]
  },
  {
   "cell_type": "markdown",
   "id": "497cb16d",
   "metadata": {},
   "source": [
    "1. From the graphs, it is clear that the marketing spend only partially plays the role in profit earned. \n",
    "2. The profit of the startup partially depends upon the Marketing spending as it also depends on other factors. "
   ]
  },
  {
   "cell_type": "code",
   "execution_count": 13,
   "id": "a47b8a1a",
   "metadata": {},
   "outputs": [
    {
     "data": {
      "image/png": "[encoded data removed]",
      "text/plain": [
       "<Figure size 1000x300 with 1 Axes>"
      ]
     },
     "metadata": {},
     "output_type": "display_data"
    }
   ],
   "source": [
    "## variation of R&D Spend with the profit earned for different states\n",
    "plt.figure(figsize=(10,3))\n",
    "sns.lineplot(x='R&D Spend',y='Profit',hue='State',data=df)\n",
    "plt.savefig('R&D wise Profit of states.jpg',bbox_inches='tight',dpi=200)"
   ]
  },
  {
   "cell_type": "markdown",
   "id": "d5133443",
   "metadata": {},
   "source": [
    "1. The R&D spending and the profit earned in the startup is almost close for all the states.\n",
    "2. Profit earned in the startup is more likely to depend upon R&D spending."
   ]
  },
  {
   "cell_type": "code",
   "execution_count": 14,
   "id": "7e0150b0",
   "metadata": {},
   "outputs": [
    {
     "data": {
      "text/plain": [
       "<Axes: xlabel='Total_Spending', ylabel='Profit'>"
      ]
     },
     "execution_count": 14,
     "metadata": {},
     "output_type": "execute_result"
    },
    {
     "data": {
      "image/png": "[encoded data removed]",
      "text/plain": [
       "<Figure size 640x480 with 1 Axes>"
      ]
     },
     "metadata": {},
     "output_type": "display_data"
    }
   ],
   "source": [
    "## variation of total spending with with the profit earned\n",
    "sns.lineplot(x='Total_Spending',y='Profit',data=df)"
   ]
  },
  {
   "cell_type": "markdown",
   "id": "e0d179f6",
   "metadata": {},
   "source": [
    "1. Total spending is the sum of R&D, Administration and Marketing spending\n",
    "2. The profit earned in the startup is moderately depends upon the Total spending.\n",
    "3. Overall, profit is increasing with the increase in spending."
   ]
  },
  {
   "cell_type": "code",
   "execution_count": 15,
   "id": "e988ec31",
   "metadata": {},
   "outputs": [
    {
     "data": {
      "image/png": "[encoded data removed]",
      "text/plain": [
       "<Figure size 500x400 with 1 Axes>"
      ]
     },
     "metadata": {},
     "output_type": "display_data"
    }
   ],
   "source": [
    "# State wise R&D spending \n",
    "plt.figure(figsize=(5,4))\n",
    "sns.barplot(x='State',y='R&D Spend',data=df,errorbar=None)\n",
    "plt.savefig('State wise R&D spending.jpg',bbox_inches='tight',dpi=200)"
   ]
  },
  {
   "cell_type": "markdown",
   "id": "34d6aeb6",
   "metadata": {},
   "source": [
    "1. California spends the least in R&D sector.\n",
    "2. New York and Florida has spends almost equal amount.\n",
    "3. This data shows that profit earned in the startups are more likely to depend upon the R&D spending."
   ]
  },
  {
   "cell_type": "code",
   "execution_count": 16,
   "id": "656be1a5",
   "metadata": {},
   "outputs": [
    {
     "data": {
      "image/png": "[encoded data removed]",
      "text/plain": [
       "<Figure size 500x400 with 1 Axes>"
      ]
     },
     "metadata": {},
     "output_type": "display_data"
    }
   ],
   "source": [
    "# State wise Profit earned\n",
    "plt.figure(figsize=(5,4))\n",
    "sns.barplot(x='State',y='Profit',data=df,errorbar=None)\n",
    "plt.savefig('State wise profit.jpg',bbox_inches='tight',dpi=200)"
   ]
  },
  {
   "cell_type": "markdown",
   "id": "38b4d7a1",
   "metadata": {},
   "source": [
    "1. Profit earned in the startups for California states is the least.\n",
    "2. New York and Florida has earned almost equal profit bur a slightly higher by Florida state."
   ]
  },
  {
   "cell_type": "code",
   "execution_count": 18,
   "id": "0bb7d3e9",
   "metadata": {},
   "outputs": [
    {
     "data": {
      "image/png": "[encoded data removed]",
      "text/plain": [
       "<Figure size 500x400 with 1 Axes>"
      ]
     },
     "metadata": {},
     "output_type": "display_data"
    }
   ],
   "source": [
    "# State wise Administration spending \n",
    "plt.figure(figsize=(5,4))\n",
    "sns.barplot(x='State',y='Administration',data=df,errorbar=None)\n",
    "plt.savefig('State wise Administration.jpg',bbox_inches='tight',dpi=200)"
   ]
  },
  {
   "cell_type": "markdown",
   "id": "88ee7da4",
   "metadata": {},
   "source": [
    "1. All the three states California, New York and Florida spends the equally in Administration.\n",
    "2. This data does not provide any deciding result.\n",
    "3. It depicts that profit earned in the startups does not depends upon Administration spending. "
   ]
  },
  {
   "cell_type": "code",
   "execution_count": 19,
   "id": "591f4595",
   "metadata": {},
   "outputs": [
    {
     "data": {
      "image/png": "[encoded data removed]",
      "text/plain": [
       "<Figure size 500x400 with 1 Axes>"
      ]
     },
     "metadata": {},
     "output_type": "display_data"
    }
   ],
   "source": [
    "# State wise Marketing spend \n",
    "plt.figure(figsize=(5,4))\n",
    "sns.barplot(x='State',y='Marketing Spend',data=df,errorbar=None)\n",
    "plt.savefig('State wise Marketing spend.jpg',bbox_inches='tight',dpi=200) \n",
    "## bbox_inches is used to make sure that the label does not cut off after saving"
   ]
  },
  {
   "cell_type": "markdown",
   "id": "065b97d7",
   "metadata": {},
   "source": [
    "1. Florida spends the most in Marketing sector followed by New York and California.\n",
    "2. This data shows that profit earned in the startups are likely to depend upon the marketing."
   ]
  },
  {
   "cell_type": "code",
   "execution_count": 21,
   "id": "4b988ce5",
   "metadata": {},
   "outputs": [
    {
     "name": "stdout",
     "output_type": "stream",
     "text": [
      "The skewness is : 0.16\n",
      "count        50.000000\n",
      "mean      73721.615600\n",
      "std       45902.256482\n",
      "min           0.000000\n",
      "25%       39936.370000\n",
      "50%       73051.080000\n",
      "75%      101602.800000\n",
      "max      165349.200000\n",
      "Name: R&D Spend, dtype: float64\n"
     ]
    },
    {
     "data": {
      "image/png": "[encoded data removed]",
      "text/plain": [
       "<Figure size 500x500 with 1 Axes>"
      ]
     },
     "metadata": {},
     "output_type": "display_data"
    }
   ],
   "source": [
    "# Distribution of R&D spend data\n",
    "sns.displot(df['R&D Spend'])\n",
    "print('The skewness is :', round(df['R&D Spend'].skew(),2))\n",
    "print(df['R&D Spend'].describe())\n",
    "plt.savefig('Distribution of R&D.jpg')"
   ]
  },
  {
   "cell_type": "markdown",
   "id": "eaeff09e",
   "metadata": {},
   "source": [
    "1. The R&D data is normally distributed.\n",
    "2. The skewness is 0.16 which lies between -1 and 1 that means normal distribution. "
   ]
  },
  {
   "cell_type": "code",
   "execution_count": 22,
   "id": "9546741c",
   "metadata": {},
   "outputs": [
    {
     "name": "stdout",
     "output_type": "stream",
     "text": [
      "The skewness is : -0.49\n",
      "count        50.000000\n",
      "mean     121344.639600\n",
      "std       28017.802755\n",
      "min       51283.140000\n",
      "25%      103730.875000\n",
      "50%      122699.795000\n",
      "75%      144842.180000\n",
      "max      182645.560000\n",
      "Name: Administration, dtype: float64\n"
     ]
    },
    {
     "data": {
      "image/png": "[encoded data removed]",
      "text/plain": [
       "<Figure size 500x500 with 1 Axes>"
      ]
     },
     "metadata": {},
     "output_type": "display_data"
    }
   ],
   "source": [
    "# Distribution of Administration spend data\n",
    "sns.displot(df['Administration'])\n",
    "print('The skewness is :', round(df['Administration'].skew(),2))\n",
    "print(df['Administration'].describe())\n",
    "plt.savefig('Distribution of Administration.jpg')"
   ]
  },
  {
   "cell_type": "markdown",
   "id": "a6d7a464",
   "metadata": {},
   "source": [
    "1. The Administrative data is normally distributed.\n",
    "2. The skewness is -0.49 which lies between -1 and 1 that means normal distribution. "
   ]
  },
  {
   "cell_type": "code",
   "execution_count": 23,
   "id": "bb6dd4b1",
   "metadata": {},
   "outputs": [
    {
     "name": "stdout",
     "output_type": "stream",
     "text": [
      "The skewness is : -0.05\n",
      "count        50.000000\n",
      "mean     211025.097800\n",
      "std      122290.310726\n",
      "min           0.000000\n",
      "25%      129300.132500\n",
      "50%      212716.240000\n",
      "75%      299469.085000\n",
      "max      471784.100000\n",
      "Name: Marketing Spend, dtype: float64\n"
     ]
    },
    {
     "data": {
      "image/png": "[encoded data removed]",
      "text/plain": [
       "<Figure size 500x500 with 1 Axes>"
      ]
     },
     "metadata": {},
     "output_type": "display_data"
    }
   ],
   "source": [
    "# Distribution of Marketing spend data\n",
    "sns.displot(df['Marketing Spend'])\n",
    "print('The skewness is :', round(df['Marketing Spend'].skew(),2))\n",
    "print(df['Marketing Spend'].describe())\n",
    "plt.savefig('Distribution of Marketing.jpg')"
   ]
  },
  {
   "cell_type": "markdown",
   "id": "443180b2",
   "metadata": {},
   "source": [
    "1. The Marketing data is normally distributed.\n",
    "2. The skewness is -0.05 which lies between -1 and 1 that means normal distribution. "
   ]
  },
  {
   "cell_type": "code",
   "execution_count": 24,
   "id": "d0108db0",
   "metadata": {},
   "outputs": [
    {
     "name": "stdout",
     "output_type": "stream",
     "text": [
      "The skewness is : 0.02\n",
      "count        50.000000\n",
      "mean     112012.639200\n",
      "std       40306.180338\n",
      "min       14681.400000\n",
      "25%       90138.902500\n",
      "50%      107978.190000\n",
      "75%      139765.977500\n",
      "max      192261.830000\n",
      "Name: Profit, dtype: float64\n"
     ]
    },
    {
     "data": {
      "image/png": "[encoded data removed]",
      "text/plain": [
       "<Figure size 500x500 with 1 Axes>"
      ]
     },
     "metadata": {},
     "output_type": "display_data"
    }
   ],
   "source": [
    "# Distribution of Profit earned data\n",
    "sns.displot(df['Profit'])\n",
    "print('The skewness is :', round(df['Profit'].skew(),2))\n",
    "print(df['Profit'].describe())\n",
    "plt.savefig('Distribution of Profit.jpg')"
   ]
  },
  {
   "cell_type": "markdown",
   "id": "fe60404f",
   "metadata": {},
   "source": [
    "1. The Profit data is normally distributed.\n",
    "2. The skewness is 0.02 which lies between -1 and 1 that means normal distribution. "
   ]
  },
  {
   "cell_type": "code",
   "execution_count": 25,
   "id": "8076134c",
   "metadata": {},
   "outputs": [
    {
     "data": {
      "image/png": "[encoded data removed]",
      "text/plain": [
       "<Figure size 640x480 with 1 Axes>"
      ]
     },
     "metadata": {},
     "output_type": "display_data"
    }
   ],
   "source": [
    "## Box plot of R&D spend data---------to check the presence of outliers\n",
    "sns.boxplot(x=df['R&D Spend'])\n",
    "plt.savefig('Box plot R&D spend.jpg')"
   ]
  },
  {
   "cell_type": "markdown",
   "id": "4a1a9a5c",
   "metadata": {},
   "source": [
    "No Outliers present int the R&D spending data"
   ]
  },
  {
   "cell_type": "code",
   "execution_count": 26,
   "id": "fa71c2b8",
   "metadata": {},
   "outputs": [
    {
     "data": {
      "image/png": "[encoded data removed]",
      "text/plain": [
       "<Figure size 640x480 with 1 Axes>"
      ]
     },
     "metadata": {},
     "output_type": "display_data"
    }
   ],
   "source": [
    "## Box plot of Administration data---------to check the presence of outliers\n",
    "sns.boxplot(x=df['Administration'])\n",
    "plt.savefig('Box plot Administration.jpg')"
   ]
  },
  {
   "cell_type": "markdown",
   "id": "ba43f99b",
   "metadata": {},
   "source": [
    "No Outliers are present in the Administration data"
   ]
  },
  {
   "cell_type": "code",
   "execution_count": 27,
   "id": "4c38a7ce",
   "metadata": {},
   "outputs": [
    {
     "data": {
      "image/png": "[encoded data removed]",
      "text/plain": [
       "<Figure size 640x480 with 1 Axes>"
      ]
     },
     "metadata": {},
     "output_type": "display_data"
    }
   ],
   "source": [
    "## Box plot of Marketing Spend data---------to check the presence of outliers\n",
    "sns.boxplot(x=df['Marketing Spend'])\n",
    "plt.savefig('Box plot Marketing Spend.jpg')"
   ]
  },
  {
   "cell_type": "markdown",
   "id": "cfc902b3",
   "metadata": {},
   "source": [
    "No outliers are present in the Marketing Spend data."
   ]
  },
  {
   "cell_type": "code",
   "execution_count": 28,
   "id": "89fb4d4a",
   "metadata": {},
   "outputs": [
    {
     "data": {
      "image/png": "[encoded data removed]",
      "text/plain": [
       "<Figure size 640x480 with 1 Axes>"
      ]
     },
     "metadata": {},
     "output_type": "display_data"
    }
   ],
   "source": [
    "## Box plot of Profit data---------to check the presence of outliers\n",
    "sns.boxplot(x=df['Profit'])\n",
    "plt.savefig('Box plot Profit.jpg')"
   ]
  },
  {
   "cell_type": "markdown",
   "id": "848de854",
   "metadata": {},
   "source": [
    "1. One outlier is present in Profit earned data\n",
    "2. It present in the left side."
   ]
  },
  {
   "cell_type": "code",
   "execution_count": 31,
   "id": "06b756f9",
   "metadata": {},
   "outputs": [
    {
     "name": "stdout",
     "output_type": "stream",
     "text": [
      "The value of Q1 is:  90138.9025\n",
      "The value of Q3 is:  139765.97749999998\n"
     ]
    }
   ],
   "source": [
    "## Adjust/Remove the Outlier present in the Profit coloumn\n",
    "Q1 = df['Profit'].quantile(0.25)\n",
    "print('The value of Q1 is: ', Q1)\n",
    "Q3 = df['Profit'].quantile(0.75)\n",
    "print('The value of Q3 is: ', Q3)"
   ]
  },
  {
   "cell_type": "code",
   "execution_count": 32,
   "id": "c97234bc",
   "metadata": {},
   "outputs": [
    {
     "name": "stdout",
     "output_type": "stream",
     "text": [
      "The value of IQR is:  49627.07499999998\n",
      "The value of lower threshld is : 15698.29\n"
     ]
    }
   ],
   "source": [
    "IQR=Q3-Q1\n",
    "print('The value of IQR is: ', IQR)\n",
    "lower_thres = Q1 - (1.5*IQR)\n",
    "print('The value of lower threshld is :',round(lower_thres,2))"
   ]
  },
  {
   "cell_type": "code",
   "execution_count": 33,
   "id": "4ad9a4e4",
   "metadata": {},
   "outputs": [
    {
     "data": {
      "text/html": [
       "<div>\n",
       "<style scoped>\n",
       "    .dataframe tbody tr th:only-of-type {\n",
       "        vertical-align: middle;\n",
       "    }\n",
       "\n",
       "    .dataframe tbody tr th {\n",
       "        vertical-align: top;\n",
       "    }\n",
       "\n",
       "    .dataframe thead th {\n",
       "        text-align: right;\n",
       "    }\n",
       "</style>\n",
       "<table border=\"1\" class=\"dataframe\">\n",
       "  <thead>\n",
       "    <tr style=\"text-align: right;\">\n",
       "      <th></th>\n",
       "      <th>R&amp;D Spend</th>\n",
       "      <th>Administration</th>\n",
       "      <th>Marketing Spend</th>\n",
       "      <th>State</th>\n",
       "      <th>Profit</th>\n",
       "      <th>Total_Spending</th>\n",
       "    </tr>\n",
       "  </thead>\n",
       "  <tbody>\n",
       "    <tr>\n",
       "      <th>49</th>\n",
       "      <td>0.0</td>\n",
       "      <td>116983.8</td>\n",
       "      <td>45173.06</td>\n",
       "      <td>California</td>\n",
       "      <td>14681.4</td>\n",
       "      <td>162156.86</td>\n",
       "    </tr>\n",
       "  </tbody>\n",
       "</table>\n",
       "</div>"
      ],
      "text/plain": [
       "    R&D Spend  Administration  Marketing Spend       State   Profit  \\\n",
       "49        0.0        116983.8         45173.06  California  14681.4   \n",
       "\n",
       "    Total_Spending  \n",
       "49       162156.86  "
      ]
     },
     "execution_count": 33,
     "metadata": {},
     "output_type": "execute_result"
    }
   ],
   "source": [
    "df[df['Profit']<lower_thres]"
   ]
  },
  {
   "cell_type": "markdown",
   "id": "9e228095",
   "metadata": {},
   "source": [
    "So, there is only outlier present in 49th row "
   ]
  },
  {
   "cell_type": "code",
   "execution_count": 34,
   "id": "3133b476",
   "metadata": {},
   "outputs": [],
   "source": [
    "## Will Change the row in order to avoid outlier\n",
    "df['Profit'] = np.where(df['Profit']<lower_thres,lower_thres,df['Profit']) "
   ]
  },
  {
   "cell_type": "code",
   "execution_count": 35,
   "id": "673cbe9c",
   "metadata": {},
   "outputs": [
    {
     "data": {
      "image/png": "[encoded data removed]",
      "text/plain": [
       "<Figure size 640x480 with 1 Axes>"
      ]
     },
     "metadata": {},
     "output_type": "display_data"
    }
   ],
   "source": [
    "## Box plot of Profit data---------after avoiding outlier\n",
    "sns.boxplot(x=df['Profit'])\n",
    "plt.savefig('Box plot new Profit.jpg')"
   ]
  },
  {
   "cell_type": "markdown",
   "id": "0e120cc9",
   "metadata": {},
   "source": [
    "The outlier has been removed/adjusted successfully"
   ]
  },
  {
   "cell_type": "markdown",
   "id": "cefca798",
   "metadata": {},
   "source": [
    "## Model Fitting"
   ]
  },
  {
   "cell_type": "markdown",
   "id": "659bf011",
   "metadata": {},
   "source": [
    "### Method----1(a)\n",
    "#### Using Simple Linear Regression (R&D spend and profit)"
   ]
  },
  {
   "cell_type": "code",
   "execution_count": 38,
   "id": "0d8dbd7c",
   "metadata": {},
   "outputs": [
    {
     "name": "stdout",
     "output_type": "stream",
     "text": [
      "The model data is given as:\n",
      "    R&D Spend     Profit\n",
      "0  165349.20  192261.83\n",
      "1  162597.70  191792.06\n",
      "2  153441.51  191050.39\n",
      "3  144372.41  182901.99\n",
      "4  142107.34  166187.94\n"
     ]
    }
   ],
   "source": [
    "model_data_1a=df[['R&D Spend','Profit']]\n",
    "print('The model data is given as:\\n', model_data_1a.head())"
   ]
  },
  {
   "cell_type": "code",
   "execution_count": 39,
   "id": "f77f5399",
   "metadata": {},
   "outputs": [
    {
     "name": "stdout",
     "output_type": "stream",
     "text": [
      "The correlation between Delivery time and sorting time is :\n",
      "            R&D Spend  Profit\n",
      "R&D Spend       1.00    0.97\n",
      "Profit          0.97    1.00\n"
     ]
    }
   ],
   "source": [
    "# Correlation b/w R&D_Spending and Profit\n",
    "c=round(model_data_1a.corr(),2)\n",
    "print('The correlation between Delivery time and sorting time is :\\n',c)"
   ]
  },
  {
   "cell_type": "markdown",
   "id": "f47d1a1b",
   "metadata": {},
   "source": [
    "1. Both are approximately 97% correlated, which means it is a strong correlation.\n",
    "2. If correlated value is greater than 85% then it is a strong correlation. "
   ]
  },
  {
   "cell_type": "code",
   "execution_count": 40,
   "id": "0b7a81a7",
   "metadata": {},
   "outputs": [],
   "source": [
    "from sklearn.model_selection import train_test_split"
   ]
  },
  {
   "cell_type": "code",
   "execution_count": 41,
   "id": "0bce81bb",
   "metadata": {},
   "outputs": [],
   "source": [
    "x_1a=model_data_1a['R&D Spend']\n",
    "y_1a=model_data_1a['Profit']"
   ]
  },
  {
   "cell_type": "code",
   "execution_count": 42,
   "id": "9ef40890",
   "metadata": {},
   "outputs": [],
   "source": [
    "x_train_1a,x_test_1a,y_train_1a,y_test_1a=train_test_split(x_1a,y_1a,train_size=0.8,random_state=1)"
   ]
  },
  {
   "cell_type": "code",
   "execution_count": 43,
   "id": "c8f348c8",
   "metadata": {},
   "outputs": [
    {
     "data": {
      "text/plain": [
       "((40,), (40,))"
      ]
     },
     "execution_count": 43,
     "metadata": {},
     "output_type": "execute_result"
    }
   ],
   "source": [
    "## The shape of data after distributing it into train and test category\n",
    "x_train_1a.shape,y_train_1a.shape"
   ]
  },
  {
   "cell_type": "code",
   "execution_count": 44,
   "id": "12ba6b6e",
   "metadata": {},
   "outputs": [
    {
     "data": {
      "text/plain": [
       "((10,), (10,))"
      ]
     },
     "execution_count": 44,
     "metadata": {},
     "output_type": "execute_result"
    }
   ],
   "source": [
    "x_test_1a.shape,y_test_1a.shape"
   ]
  },
  {
   "cell_type": "code",
   "execution_count": 45,
   "id": "0b61c22f",
   "metadata": {},
   "outputs": [],
   "source": [
    "# Reshaping of the data as it is a simple Linear Regression\n",
    "x_train_1a=x_train_1a.values.reshape(-1,1)\n",
    "y_train_1a=y_train_1a.values.reshape(-1,1)"
   ]
  },
  {
   "cell_type": "code",
   "execution_count": 46,
   "id": "99120fee",
   "metadata": {},
   "outputs": [],
   "source": [
    "## Model Building\n",
    "from sklearn.linear_model import LinearRegression"
   ]
  },
  {
   "cell_type": "code",
   "execution_count": 47,
   "id": "528fd14e",
   "metadata": {},
   "outputs": [
    {
     "name": "stdout",
     "output_type": "stream",
     "text": [
      "LinearRegression()\n"
     ]
    }
   ],
   "source": [
    "model=LinearRegression()\n",
    "print(model)"
   ]
  },
  {
   "cell_type": "code",
   "execution_count": 48,
   "id": "861cce85",
   "metadata": {},
   "outputs": [],
   "source": [
    "model_fit_1a=model.fit(x_train_1a,y_train_1a)"
   ]
  },
  {
   "cell_type": "code",
   "execution_count": 49,
   "id": "1a7e3e6d",
   "metadata": {},
   "outputs": [
    {
     "name": "stdout",
     "output_type": "stream",
     "text": [
      "The coefficient of the fitted data is:  [[0.83378929]]\n"
     ]
    }
   ],
   "source": [
    "# Coefficient \n",
    "print('The coefficient of the fitted data is: ', model_fit_1a.coef_)"
   ]
  },
  {
   "cell_type": "code",
   "execution_count": 50,
   "id": "f0c450ef",
   "metadata": {},
   "outputs": [
    {
     "name": "stdout",
     "output_type": "stream",
     "text": [
      "The Intercept of the fitted data is:  [50113.55682796]\n"
     ]
    }
   ],
   "source": [
    "# Intercept of the fitting\n",
    "print('The Intercept of the fitted data is: ',model_fit_1a.intercept_)"
   ]
  },
  {
   "cell_type": "code",
   "execution_count": 51,
   "id": "b54dfe65",
   "metadata": {},
   "outputs": [],
   "source": [
    "## Model Prediction\n",
    "x_test_1a=x_test_1a.values.reshape(-1,1)"
   ]
  },
  {
   "cell_type": "code",
   "execution_count": 53,
   "id": "fc02a75d",
   "metadata": {},
   "outputs": [
    {
     "data": {
      "text/plain": [
       "array([[110236.10176922],\n",
       "       [ 88479.55410673],\n",
       "       [ 74088.60935614],\n",
       "       [ 66980.77240466],\n",
       "       [178051.4452174 ],\n",
       "       [170489.7267255 ],\n",
       "       [ 50565.51231511],\n",
       "       [104814.70372084],\n",
       "       [ 51210.37329347],\n",
       "       [101088.41598422]])"
      ]
     },
     "execution_count": 53,
     "metadata": {},
     "output_type": "execute_result"
    }
   ],
   "source": [
    "pred_1a=model_fit_1a.predict(x_test_1a)\n",
    "pred_1a"
   ]
  },
  {
   "cell_type": "code",
   "execution_count": 54,
   "id": "7ce1f2c7",
   "metadata": {},
   "outputs": [
    {
     "data": {
      "text/html": [
       "<div>\n",
       "<style scoped>\n",
       "    .dataframe tbody tr th:only-of-type {\n",
       "        vertical-align: middle;\n",
       "    }\n",
       "\n",
       "    .dataframe tbody tr th {\n",
       "        vertical-align: top;\n",
       "    }\n",
       "\n",
       "    .dataframe thead th {\n",
       "        text-align: right;\n",
       "    }\n",
       "</style>\n",
       "<table border=\"1\" class=\"dataframe\">\n",
       "  <thead>\n",
       "    <tr style=\"text-align: right;\">\n",
       "      <th></th>\n",
       "      <th>pred</th>\n",
       "    </tr>\n",
       "  </thead>\n",
       "  <tbody>\n",
       "    <tr>\n",
       "      <th>0</th>\n",
       "      <td>110236.101769</td>\n",
       "    </tr>\n",
       "    <tr>\n",
       "      <th>1</th>\n",
       "      <td>88479.554107</td>\n",
       "    </tr>\n",
       "    <tr>\n",
       "      <th>2</th>\n",
       "      <td>74088.609356</td>\n",
       "    </tr>\n",
       "    <tr>\n",
       "      <th>3</th>\n",
       "      <td>66980.772405</td>\n",
       "    </tr>\n",
       "    <tr>\n",
       "      <th>4</th>\n",
       "      <td>178051.445217</td>\n",
       "    </tr>\n",
       "    <tr>\n",
       "      <th>5</th>\n",
       "      <td>170489.726725</td>\n",
       "    </tr>\n",
       "    <tr>\n",
       "      <th>6</th>\n",
       "      <td>50565.512315</td>\n",
       "    </tr>\n",
       "    <tr>\n",
       "      <th>7</th>\n",
       "      <td>104814.703721</td>\n",
       "    </tr>\n",
       "    <tr>\n",
       "      <th>8</th>\n",
       "      <td>51210.373293</td>\n",
       "    </tr>\n",
       "    <tr>\n",
       "      <th>9</th>\n",
       "      <td>101088.415984</td>\n",
       "    </tr>\n",
       "  </tbody>\n",
       "</table>\n",
       "</div>"
      ],
      "text/plain": [
       "            pred\n",
       "0  110236.101769\n",
       "1   88479.554107\n",
       "2   74088.609356\n",
       "3   66980.772405\n",
       "4  178051.445217\n",
       "5  170489.726725\n",
       "6   50565.512315\n",
       "7  104814.703721\n",
       "8   51210.373293\n",
       "9  101088.415984"
      ]
     },
     "execution_count": 54,
     "metadata": {},
     "output_type": "execute_result"
    }
   ],
   "source": [
    "df_pred_1a=pd.DataFrame(pred_1a,columns=['pred'])\n",
    "df_pred_1a"
   ]
  },
  {
   "cell_type": "code",
   "execution_count": 55,
   "id": "e542d82a",
   "metadata": {},
   "outputs": [
    {
     "data": {
      "text/html": [
       "<div>\n",
       "<style scoped>\n",
       "    .dataframe tbody tr th:only-of-type {\n",
       "        vertical-align: middle;\n",
       "    }\n",
       "\n",
       "    .dataframe tbody tr th {\n",
       "        vertical-align: top;\n",
       "    }\n",
       "\n",
       "    .dataframe thead th {\n",
       "        text-align: right;\n",
       "    }\n",
       "</style>\n",
       "<table border=\"1\" class=\"dataframe\">\n",
       "  <thead>\n",
       "    <tr style=\"text-align: right;\">\n",
       "      <th></th>\n",
       "      <th>pred</th>\n",
       "      <th>Actual</th>\n",
       "    </tr>\n",
       "  </thead>\n",
       "  <tbody>\n",
       "    <tr>\n",
       "      <th>0</th>\n",
       "      <td>110236.101769</td>\n",
       "      <td>105008.31</td>\n",
       "    </tr>\n",
       "    <tr>\n",
       "      <th>1</th>\n",
       "      <td>88479.554107</td>\n",
       "      <td>96479.51</td>\n",
       "    </tr>\n",
       "    <tr>\n",
       "      <th>2</th>\n",
       "      <td>74088.609356</td>\n",
       "      <td>78239.91</td>\n",
       "    </tr>\n",
       "    <tr>\n",
       "      <th>3</th>\n",
       "      <td>66980.772405</td>\n",
       "      <td>81229.06</td>\n",
       "    </tr>\n",
       "    <tr>\n",
       "      <th>4</th>\n",
       "      <td>178051.445217</td>\n",
       "      <td>191050.39</td>\n",
       "    </tr>\n",
       "    <tr>\n",
       "      <th>5</th>\n",
       "      <td>170489.726725</td>\n",
       "      <td>182901.99</td>\n",
       "    </tr>\n",
       "    <tr>\n",
       "      <th>6</th>\n",
       "      <td>50565.512315</td>\n",
       "      <td>35673.41</td>\n",
       "    </tr>\n",
       "    <tr>\n",
       "      <th>7</th>\n",
       "      <td>104814.703721</td>\n",
       "      <td>101004.64</td>\n",
       "    </tr>\n",
       "    <tr>\n",
       "      <th>8</th>\n",
       "      <td>51210.373293</td>\n",
       "      <td>49490.75</td>\n",
       "    </tr>\n",
       "    <tr>\n",
       "      <th>9</th>\n",
       "      <td>101088.415984</td>\n",
       "      <td>97483.56</td>\n",
       "    </tr>\n",
       "  </tbody>\n",
       "</table>\n",
       "</div>"
      ],
      "text/plain": [
       "            pred     Actual\n",
       "0  110236.101769  105008.31\n",
       "1   88479.554107   96479.51\n",
       "2   74088.609356   78239.91\n",
       "3   66980.772405   81229.06\n",
       "4  178051.445217  191050.39\n",
       "5  170489.726725  182901.99\n",
       "6   50565.512315   35673.41\n",
       "7  104814.703721  101004.64\n",
       "8   51210.373293   49490.75\n",
       "9  101088.415984   97483.56"
      ]
     },
     "execution_count": 55,
     "metadata": {},
     "output_type": "execute_result"
    }
   ],
   "source": [
    "df_pred_1a['Actual']=y_test_1a.values\n",
    "df_pred_1a"
   ]
  },
  {
   "cell_type": "code",
   "execution_count": 56,
   "id": "78c1fd04",
   "metadata": {},
   "outputs": [],
   "source": [
    "# Error calculation\n",
    "from sklearn.metrics import r2_score,mean_absolute_error,mean_squared_error\n",
    "from math import sqrt"
   ]
  },
  {
   "cell_type": "code",
   "execution_count": 57,
   "id": "27e7dfc2",
   "metadata": {},
   "outputs": [
    {
     "name": "stdout",
     "output_type": "stream",
     "text": [
      "The strength of the model is : 0.961\n"
     ]
    }
   ],
   "source": [
    "# R square value \n",
    "st=r2_score(df_pred_1a['Actual'],df_pred_1a['pred'])\n",
    "print('The strength of the model is :',round(st,3))"
   ]
  },
  {
   "cell_type": "markdown",
   "id": "ad61b5d4",
   "metadata": {},
   "source": [
    "### Method----1(b)\n",
    "#### Using Simple Linear Regression (Administration spend and profit)"
   ]
  },
  {
   "cell_type": "code",
   "execution_count": 58,
   "id": "9fe05854",
   "metadata": {},
   "outputs": [
    {
     "name": "stdout",
     "output_type": "stream",
     "text": [
      "The model data is given as:\n",
      "    Administration     Profit\n",
      "0       136897.80  192261.83\n",
      "1       151377.59  191792.06\n",
      "2       101145.55  191050.39\n",
      "3       118671.85  182901.99\n",
      "4        91391.77  166187.94\n"
     ]
    }
   ],
   "source": [
    "model_data_1b=df[['Administration','Profit']]\n",
    "print('The model data is given as:\\n', model_data_1b.head())"
   ]
  },
  {
   "cell_type": "code",
   "execution_count": 59,
   "id": "7e255cfb",
   "metadata": {},
   "outputs": [
    {
     "name": "stdout",
     "output_type": "stream",
     "text": [
      "The correlation between Administration spending and Profit earned is :\n",
      "                 Administration  Profit\n",
      "Administration             1.0     0.2\n",
      "Profit                     0.2     1.0\n"
     ]
    }
   ],
   "source": [
    "# Correlation b/w Administration spending and Profit\n",
    "c=round(model_data_1b.corr(),2)\n",
    "print('The correlation between Administration spending and Profit earned is :\\n',c)"
   ]
  },
  {
   "cell_type": "markdown",
   "id": "d57cac26",
   "metadata": {},
   "source": [
    "1. Both are approximately 20% correlated, which means it is a very weak correlation.\n",
    "2. If correlated value is greater than 85% then it is a strong correlation "
   ]
  },
  {
   "cell_type": "code",
   "execution_count": 60,
   "id": "a4c56427",
   "metadata": {},
   "outputs": [],
   "source": [
    "# Sampling of the data\n",
    "x_1b=model_data_1b['Administration']\n",
    "y_1b=model_data_1b['Profit']"
   ]
  },
  {
   "cell_type": "code",
   "execution_count": 61,
   "id": "e7727ea7",
   "metadata": {},
   "outputs": [],
   "source": [
    "x_train_1b,x_test_1b,y_train_1b,y_test_1b=train_test_split(x_1b,y_1b,train_size=0.8,random_state=1)"
   ]
  },
  {
   "cell_type": "code",
   "execution_count": 62,
   "id": "b7619274",
   "metadata": {},
   "outputs": [],
   "source": [
    "x_train_1b=x_train_1b.values.reshape(-1,1)\n",
    "y_train_1b=y_train_1b.values.reshape(-1,1)"
   ]
  },
  {
   "cell_type": "code",
   "execution_count": 63,
   "id": "48520ff8",
   "metadata": {},
   "outputs": [],
   "source": [
    "model_fit_1b=model.fit(x_train_1b,y_train_1b)"
   ]
  },
  {
   "cell_type": "code",
   "execution_count": 64,
   "id": "d0957881",
   "metadata": {},
   "outputs": [
    {
     "name": "stdout",
     "output_type": "stream",
     "text": [
      "The coefficient of the fitted data is:  [[0.20477148]]\n"
     ]
    }
   ],
   "source": [
    "# Coefficient \n",
    "print('The coefficient of the fitted data is: ', model_fit_1b.coef_)"
   ]
  },
  {
   "cell_type": "code",
   "execution_count": 65,
   "id": "f84a0892",
   "metadata": {},
   "outputs": [
    {
     "name": "stdout",
     "output_type": "stream",
     "text": [
      "The Intercept of the fitted data is:  [89099.94896445]\n"
     ]
    }
   ],
   "source": [
    "# Intercept of the fitting\n",
    "print('The Intercept of the fitted data is: ',model_fit_1b.intercept_)"
   ]
  },
  {
   "cell_type": "code",
   "execution_count": 66,
   "id": "1a121054",
   "metadata": {},
   "outputs": [],
   "source": [
    "## Model Prediction\n",
    "x_test_1b=x_test_1b.values.reshape(-1,1)"
   ]
  },
  {
   "cell_type": "code",
   "execution_count": 68,
   "id": "2d1284fc",
   "metadata": {},
   "outputs": [
    {
     "data": {
      "text/plain": [
       "array([[115282.96236558],\n",
       "       [106515.23929513],\n",
       "       [113374.79931039],\n",
       "       [102604.2043266 ],\n",
       "       [109811.67313753],\n",
       "       [113400.55956283],\n",
       "       [ 99695.47047426],\n",
       "       [120436.55068699],\n",
       "       [112815.80592792],\n",
       "       [120368.94742992]])"
      ]
     },
     "execution_count": 68,
     "metadata": {},
     "output_type": "execute_result"
    }
   ],
   "source": [
    "pred_1b=model_fit_1b.predict(x_test_1b)\n",
    "pred_1b"
   ]
  },
  {
   "cell_type": "code",
   "execution_count": 69,
   "id": "98daed25",
   "metadata": {},
   "outputs": [
    {
     "data": {
      "text/html": [
       "<div>\n",
       "<style scoped>\n",
       "    .dataframe tbody tr th:only-of-type {\n",
       "        vertical-align: middle;\n",
       "    }\n",
       "\n",
       "    .dataframe tbody tr th {\n",
       "        vertical-align: top;\n",
       "    }\n",
       "\n",
       "    .dataframe thead th {\n",
       "        text-align: right;\n",
       "    }\n",
       "</style>\n",
       "<table border=\"1\" class=\"dataframe\">\n",
       "  <thead>\n",
       "    <tr style=\"text-align: right;\">\n",
       "      <th></th>\n",
       "      <th>pred</th>\n",
       "    </tr>\n",
       "  </thead>\n",
       "  <tbody>\n",
       "    <tr>\n",
       "      <th>0</th>\n",
       "      <td>115282.962366</td>\n",
       "    </tr>\n",
       "    <tr>\n",
       "      <th>1</th>\n",
       "      <td>106515.239295</td>\n",
       "    </tr>\n",
       "    <tr>\n",
       "      <th>2</th>\n",
       "      <td>113374.799310</td>\n",
       "    </tr>\n",
       "    <tr>\n",
       "      <th>3</th>\n",
       "      <td>102604.204327</td>\n",
       "    </tr>\n",
       "    <tr>\n",
       "      <th>4</th>\n",
       "      <td>109811.673138</td>\n",
       "    </tr>\n",
       "    <tr>\n",
       "      <th>5</th>\n",
       "      <td>113400.559563</td>\n",
       "    </tr>\n",
       "    <tr>\n",
       "      <th>6</th>\n",
       "      <td>99695.470474</td>\n",
       "    </tr>\n",
       "    <tr>\n",
       "      <th>7</th>\n",
       "      <td>120436.550687</td>\n",
       "    </tr>\n",
       "    <tr>\n",
       "      <th>8</th>\n",
       "      <td>112815.805928</td>\n",
       "    </tr>\n",
       "    <tr>\n",
       "      <th>9</th>\n",
       "      <td>120368.947430</td>\n",
       "    </tr>\n",
       "  </tbody>\n",
       "</table>\n",
       "</div>"
      ],
      "text/plain": [
       "            pred\n",
       "0  115282.962366\n",
       "1  106515.239295\n",
       "2  113374.799310\n",
       "3  102604.204327\n",
       "4  109811.673138\n",
       "5  113400.559563\n",
       "6   99695.470474\n",
       "7  120436.550687\n",
       "8  112815.805928\n",
       "9  120368.947430"
      ]
     },
     "execution_count": 69,
     "metadata": {},
     "output_type": "execute_result"
    }
   ],
   "source": [
    "df_pred_1b=pd.DataFrame(pred_1b,columns=['pred'])\n",
    "df_pred_1b"
   ]
  },
  {
   "cell_type": "code",
   "execution_count": 71,
   "id": "cb4295af",
   "metadata": {},
   "outputs": [
    {
     "data": {
      "text/html": [
       "<div>\n",
       "<style scoped>\n",
       "    .dataframe tbody tr th:only-of-type {\n",
       "        vertical-align: middle;\n",
       "    }\n",
       "\n",
       "    .dataframe tbody tr th {\n",
       "        vertical-align: top;\n",
       "    }\n",
       "\n",
       "    .dataframe thead th {\n",
       "        text-align: right;\n",
       "    }\n",
       "</style>\n",
       "<table border=\"1\" class=\"dataframe\">\n",
       "  <thead>\n",
       "    <tr style=\"text-align: right;\">\n",
       "      <th></th>\n",
       "      <th>pred</th>\n",
       "      <th>Actual</th>\n",
       "    </tr>\n",
       "  </thead>\n",
       "  <tbody>\n",
       "    <tr>\n",
       "      <th>0</th>\n",
       "      <td>115282.962366</td>\n",
       "      <td>105008.31</td>\n",
       "    </tr>\n",
       "    <tr>\n",
       "      <th>1</th>\n",
       "      <td>106515.239295</td>\n",
       "      <td>96479.51</td>\n",
       "    </tr>\n",
       "    <tr>\n",
       "      <th>2</th>\n",
       "      <td>113374.799310</td>\n",
       "      <td>78239.91</td>\n",
       "    </tr>\n",
       "    <tr>\n",
       "      <th>3</th>\n",
       "      <td>102604.204327</td>\n",
       "      <td>81229.06</td>\n",
       "    </tr>\n",
       "    <tr>\n",
       "      <th>4</th>\n",
       "      <td>109811.673138</td>\n",
       "      <td>191050.39</td>\n",
       "    </tr>\n",
       "    <tr>\n",
       "      <th>5</th>\n",
       "      <td>113400.559563</td>\n",
       "      <td>182901.99</td>\n",
       "    </tr>\n",
       "    <tr>\n",
       "      <th>6</th>\n",
       "      <td>99695.470474</td>\n",
       "      <td>35673.41</td>\n",
       "    </tr>\n",
       "    <tr>\n",
       "      <th>7</th>\n",
       "      <td>120436.550687</td>\n",
       "      <td>101004.64</td>\n",
       "    </tr>\n",
       "    <tr>\n",
       "      <th>8</th>\n",
       "      <td>112815.805928</td>\n",
       "      <td>49490.75</td>\n",
       "    </tr>\n",
       "    <tr>\n",
       "      <th>9</th>\n",
       "      <td>120368.947430</td>\n",
       "      <td>97483.56</td>\n",
       "    </tr>\n",
       "  </tbody>\n",
       "</table>\n",
       "</div>"
      ],
      "text/plain": [
       "            pred     Actual\n",
       "0  115282.962366  105008.31\n",
       "1  106515.239295   96479.51\n",
       "2  113374.799310   78239.91\n",
       "3  102604.204327   81229.06\n",
       "4  109811.673138  191050.39\n",
       "5  113400.559563  182901.99\n",
       "6   99695.470474   35673.41\n",
       "7  120436.550687  101004.64\n",
       "8  112815.805928   49490.75\n",
       "9  120368.947430   97483.56"
      ]
     },
     "execution_count": 71,
     "metadata": {},
     "output_type": "execute_result"
    }
   ],
   "source": [
    "df_pred_1b['Actual']=y_test_1b.values\n",
    "df_pred_1b"
   ]
  },
  {
   "cell_type": "code",
   "execution_count": 72,
   "id": "d7f4ce06",
   "metadata": {},
   "outputs": [
    {
     "name": "stdout",
     "output_type": "stream",
     "text": [
      "The strength of the model 1b is : 0.015\n"
     ]
    }
   ],
   "source": [
    "# R square value \n",
    "st=r2_score(df_pred_1b['Actual'],df_pred_1b['pred'])\n",
    "print('The strength of the model 1b is :',round(st,3))"
   ]
  },
  {
   "cell_type": "markdown",
   "id": "04e20c24",
   "metadata": {},
   "source": [
    "### Method----1(c)\n",
    "#### Using Simple Linear Regression (Marketing spend and profit)"
   ]
  },
  {
   "cell_type": "code",
   "execution_count": 73,
   "id": "5129ea51",
   "metadata": {},
   "outputs": [
    {
     "name": "stdout",
     "output_type": "stream",
     "text": [
      "The model data is given as:\n",
      "    Marketing Spend     Profit\n",
      "0        471784.10  192261.83\n",
      "1        443898.53  191792.06\n",
      "2        407934.54  191050.39\n",
      "3        383199.62  182901.99\n",
      "4        366168.42  166187.94\n"
     ]
    }
   ],
   "source": [
    "model_data_1c=df[['Marketing Spend','Profit']]\n",
    "print('The model data is given as:\\n', model_data_1c.head())"
   ]
  },
  {
   "cell_type": "code",
   "execution_count": 74,
   "id": "6fbb4bb0",
   "metadata": {},
   "outputs": [
    {
     "name": "stdout",
     "output_type": "stream",
     "text": [
      "The correlation between Delivery time and sorting time is :\n",
      "                  Marketing Spend  Profit\n",
      "Marketing Spend             1.00    0.75\n",
      "Profit                      0.75    1.00\n"
     ]
    }
   ],
   "source": [
    "# Correlation b/w Marketing spend and Profit\n",
    "c=round(model_data_1c.corr(),2)\n",
    "print('The correlation between Delivery time and sorting time is :\\n',c)"
   ]
  },
  {
   "cell_type": "markdown",
   "id": "42fe0cd5",
   "metadata": {},
   "source": [
    "1. Both are approximately 75% correlated, which means it is a moderate correlation.\n",
    "2. If correlated value is greater than 85% then it is a strong correlation"
   ]
  },
  {
   "cell_type": "code",
   "execution_count": 75,
   "id": "215e38d5",
   "metadata": {},
   "outputs": [],
   "source": [
    "# Sampling of the data\n",
    "x_1c=model_data_1c['Marketing Spend']\n",
    "y_1c=model_data_1c['Profit']"
   ]
  },
  {
   "cell_type": "code",
   "execution_count": 76,
   "id": "df7956aa",
   "metadata": {},
   "outputs": [],
   "source": [
    "x_train_1c,x_test_1c,y_train_1c,y_test_1c=train_test_split(x_1c,y_1c,train_size=0.8,random_state=1)"
   ]
  },
  {
   "cell_type": "code",
   "execution_count": 77,
   "id": "c26fc125",
   "metadata": {},
   "outputs": [],
   "source": [
    "x_train_1c=x_train_1c.values.reshape(-1,1)\n",
    "y_train_1c=y_train_1c.values.reshape(-1,1)"
   ]
  },
  {
   "cell_type": "code",
   "execution_count": 78,
   "id": "e4a4903b",
   "metadata": {},
   "outputs": [],
   "source": [
    "model_fit_1c=model.fit(x_train_1c,y_train_1c)"
   ]
  },
  {
   "cell_type": "code",
   "execution_count": 79,
   "id": "629cb191",
   "metadata": {},
   "outputs": [
    {
     "name": "stdout",
     "output_type": "stream",
     "text": [
      "The coefficient of the fitted data is:  [[0.24480643]]\n"
     ]
    }
   ],
   "source": [
    "# Coefficient \n",
    "print('The coefficient of the fitted data is: ', model_fit_1c.coef_)"
   ]
  },
  {
   "cell_type": "code",
   "execution_count": 80,
   "id": "de691af6",
   "metadata": {},
   "outputs": [
    {
     "name": "stdout",
     "output_type": "stream",
     "text": [
      "The Intercept of the fitted data is:  [63468.40912326]\n"
     ]
    }
   ],
   "source": [
    "# Intercept of the fitting\n",
    "print('The Intercept of the fitted data is: ',model_fit_1c.intercept_)"
   ]
  },
  {
   "cell_type": "code",
   "execution_count": 81,
   "id": "8f6ca87b",
   "metadata": {},
   "outputs": [],
   "source": [
    "## Model Prediction\n",
    "x_test_1c=x_test_1c.values.reshape(-1,1)"
   ]
  },
  {
   "cell_type": "code",
   "execution_count": 83,
   "id": "94d91c24",
   "metadata": {},
   "outputs": [
    {
     "data": {
      "text/plain": [
       "array([[149930.07735628],\n",
       "       [113780.44920719],\n",
       "       [105769.90049582],\n",
       "       [108822.49715849],\n",
       "       [163333.40819632],\n",
       "       [157278.14069465],\n",
       "       [ 63468.40912326],\n",
       "       [ 89696.5736209 ],\n",
       "       [136203.93985938],\n",
       "       [ 85064.79921364]])"
      ]
     },
     "execution_count": 83,
     "metadata": {},
     "output_type": "execute_result"
    }
   ],
   "source": [
    "pred_1c=model_fit_1c.predict(x_test_1c)\n",
    "pred_1c"
   ]
  },
  {
   "cell_type": "code",
   "execution_count": 84,
   "id": "73cd6e4c",
   "metadata": {},
   "outputs": [
    {
     "data": {
      "text/html": [
       "<div>\n",
       "<style scoped>\n",
       "    .dataframe tbody tr th:only-of-type {\n",
       "        vertical-align: middle;\n",
       "    }\n",
       "\n",
       "    .dataframe tbody tr th {\n",
       "        vertical-align: top;\n",
       "    }\n",
       "\n",
       "    .dataframe thead th {\n",
       "        text-align: right;\n",
       "    }\n",
       "</style>\n",
       "<table border=\"1\" class=\"dataframe\">\n",
       "  <thead>\n",
       "    <tr style=\"text-align: right;\">\n",
       "      <th></th>\n",
       "      <th>pred</th>\n",
       "    </tr>\n",
       "  </thead>\n",
       "  <tbody>\n",
       "    <tr>\n",
       "      <th>0</th>\n",
       "      <td>149930.077356</td>\n",
       "    </tr>\n",
       "    <tr>\n",
       "      <th>1</th>\n",
       "      <td>113780.449207</td>\n",
       "    </tr>\n",
       "    <tr>\n",
       "      <th>2</th>\n",
       "      <td>105769.900496</td>\n",
       "    </tr>\n",
       "    <tr>\n",
       "      <th>3</th>\n",
       "      <td>108822.497158</td>\n",
       "    </tr>\n",
       "    <tr>\n",
       "      <th>4</th>\n",
       "      <td>163333.408196</td>\n",
       "    </tr>\n",
       "    <tr>\n",
       "      <th>5</th>\n",
       "      <td>157278.140695</td>\n",
       "    </tr>\n",
       "    <tr>\n",
       "      <th>6</th>\n",
       "      <td>63468.409123</td>\n",
       "    </tr>\n",
       "    <tr>\n",
       "      <th>7</th>\n",
       "      <td>89696.573621</td>\n",
       "    </tr>\n",
       "    <tr>\n",
       "      <th>8</th>\n",
       "      <td>136203.939859</td>\n",
       "    </tr>\n",
       "    <tr>\n",
       "      <th>9</th>\n",
       "      <td>85064.799214</td>\n",
       "    </tr>\n",
       "  </tbody>\n",
       "</table>\n",
       "</div>"
      ],
      "text/plain": [
       "            pred\n",
       "0  149930.077356\n",
       "1  113780.449207\n",
       "2  105769.900496\n",
       "3  108822.497158\n",
       "4  163333.408196\n",
       "5  157278.140695\n",
       "6   63468.409123\n",
       "7   89696.573621\n",
       "8  136203.939859\n",
       "9   85064.799214"
      ]
     },
     "execution_count": 84,
     "metadata": {},
     "output_type": "execute_result"
    }
   ],
   "source": [
    "df_pred_1c=pd.DataFrame(pred_1c,columns=['pred'])\n",
    "df_pred_1c"
   ]
  },
  {
   "cell_type": "code",
   "execution_count": 85,
   "id": "5593e520",
   "metadata": {},
   "outputs": [
    {
     "data": {
      "text/html": [
       "<div>\n",
       "<style scoped>\n",
       "    .dataframe tbody tr th:only-of-type {\n",
       "        vertical-align: middle;\n",
       "    }\n",
       "\n",
       "    .dataframe tbody tr th {\n",
       "        vertical-align: top;\n",
       "    }\n",
       "\n",
       "    .dataframe thead th {\n",
       "        text-align: right;\n",
       "    }\n",
       "</style>\n",
       "<table border=\"1\" class=\"dataframe\">\n",
       "  <thead>\n",
       "    <tr style=\"text-align: right;\">\n",
       "      <th></th>\n",
       "      <th>pred</th>\n",
       "      <th>Actual</th>\n",
       "    </tr>\n",
       "  </thead>\n",
       "  <tbody>\n",
       "    <tr>\n",
       "      <th>0</th>\n",
       "      <td>149930.077356</td>\n",
       "      <td>105008.31</td>\n",
       "    </tr>\n",
       "    <tr>\n",
       "      <th>1</th>\n",
       "      <td>113780.449207</td>\n",
       "      <td>96479.51</td>\n",
       "    </tr>\n",
       "    <tr>\n",
       "      <th>2</th>\n",
       "      <td>105769.900496</td>\n",
       "      <td>78239.91</td>\n",
       "    </tr>\n",
       "    <tr>\n",
       "      <th>3</th>\n",
       "      <td>108822.497158</td>\n",
       "      <td>81229.06</td>\n",
       "    </tr>\n",
       "    <tr>\n",
       "      <th>4</th>\n",
       "      <td>163333.408196</td>\n",
       "      <td>191050.39</td>\n",
       "    </tr>\n",
       "    <tr>\n",
       "      <th>5</th>\n",
       "      <td>157278.140695</td>\n",
       "      <td>182901.99</td>\n",
       "    </tr>\n",
       "    <tr>\n",
       "      <th>6</th>\n",
       "      <td>63468.409123</td>\n",
       "      <td>35673.41</td>\n",
       "    </tr>\n",
       "    <tr>\n",
       "      <th>7</th>\n",
       "      <td>89696.573621</td>\n",
       "      <td>101004.64</td>\n",
       "    </tr>\n",
       "    <tr>\n",
       "      <th>8</th>\n",
       "      <td>136203.939859</td>\n",
       "      <td>49490.75</td>\n",
       "    </tr>\n",
       "    <tr>\n",
       "      <th>9</th>\n",
       "      <td>85064.799214</td>\n",
       "      <td>97483.56</td>\n",
       "    </tr>\n",
       "  </tbody>\n",
       "</table>\n",
       "</div>"
      ],
      "text/plain": [
       "            pred     Actual\n",
       "0  149930.077356  105008.31\n",
       "1  113780.449207   96479.51\n",
       "2  105769.900496   78239.91\n",
       "3  108822.497158   81229.06\n",
       "4  163333.408196  191050.39\n",
       "5  157278.140695  182901.99\n",
       "6   63468.409123   35673.41\n",
       "7   89696.573621  101004.64\n",
       "8  136203.939859   49490.75\n",
       "9   85064.799214   97483.56"
      ]
     },
     "execution_count": 85,
     "metadata": {},
     "output_type": "execute_result"
    }
   ],
   "source": [
    "df_pred_1c['Actual']=y_test_1c.values\n",
    "df_pred_1c"
   ]
  },
  {
   "cell_type": "code",
   "execution_count": 86,
   "id": "231a5a4c",
   "metadata": {},
   "outputs": [
    {
     "name": "stdout",
     "output_type": "stream",
     "text": [
      "The strength of the model 1c is : 0.39\n"
     ]
    }
   ],
   "source": [
    "# R square value \n",
    "st=r2_score(df_pred_1c['Actual'],df_pred_1c['pred'])\n",
    "print('The strength of the model 1c is :',round(st,3))"
   ]
  },
  {
   "cell_type": "code",
   "execution_count": 87,
   "id": "3a09c357",
   "metadata": {},
   "outputs": [
    {
     "name": "stdout",
     "output_type": "stream",
     "text": [
      "The root mean square value of the model 1c is : 37195.747\n"
     ]
    }
   ],
   "source": [
    "# RMSE\n",
    "RMSE= sqrt(mean_squared_error(df_pred_1c['Actual'],df_pred_1c['pred']))\n",
    "print('The root mean square value of the model 1c is :',round(RMSE,3))"
   ]
  },
  {
   "cell_type": "markdown",
   "id": "a2b4dcdb",
   "metadata": {},
   "source": [
    "### Method---2\n",
    "#### Using multiple linear regression"
   ]
  },
  {
   "cell_type": "code",
   "execution_count": 88,
   "id": "764356f1",
   "metadata": {},
   "outputs": [
    {
     "data": {
      "text/plain": [
       "array(['New York', 'California', 'Florida'], dtype=object)"
      ]
     },
     "execution_count": 88,
     "metadata": {},
     "output_type": "execute_result"
    }
   ],
   "source": [
    "df['State'].unique()"
   ]
  },
  {
   "cell_type": "code",
   "execution_count": 90,
   "id": "82dc65e1",
   "metadata": {},
   "outputs": [
    {
     "data": {
      "text/html": [
       "<div>\n",
       "<style scoped>\n",
       "    .dataframe tbody tr th:only-of-type {\n",
       "        vertical-align: middle;\n",
       "    }\n",
       "\n",
       "    .dataframe tbody tr th {\n",
       "        vertical-align: top;\n",
       "    }\n",
       "\n",
       "    .dataframe thead th {\n",
       "        text-align: right;\n",
       "    }\n",
       "</style>\n",
       "<table border=\"1\" class=\"dataframe\">\n",
       "  <thead>\n",
       "    <tr style=\"text-align: right;\">\n",
       "      <th></th>\n",
       "      <th>California</th>\n",
       "      <th>Florida</th>\n",
       "      <th>New York</th>\n",
       "    </tr>\n",
       "  </thead>\n",
       "  <tbody>\n",
       "    <tr>\n",
       "      <th>0</th>\n",
       "      <td>0</td>\n",
       "      <td>0</td>\n",
       "      <td>1</td>\n",
       "    </tr>\n",
       "    <tr>\n",
       "      <th>1</th>\n",
       "      <td>1</td>\n",
       "      <td>0</td>\n",
       "      <td>0</td>\n",
       "    </tr>\n",
       "    <tr>\n",
       "      <th>2</th>\n",
       "      <td>0</td>\n",
       "      <td>1</td>\n",
       "      <td>0</td>\n",
       "    </tr>\n",
       "    <tr>\n",
       "      <th>3</th>\n",
       "      <td>0</td>\n",
       "      <td>0</td>\n",
       "      <td>1</td>\n",
       "    </tr>\n",
       "    <tr>\n",
       "      <th>4</th>\n",
       "      <td>0</td>\n",
       "      <td>1</td>\n",
       "      <td>0</td>\n",
       "    </tr>\n",
       "  </tbody>\n",
       "</table>\n",
       "</div>"
      ],
      "text/plain": [
       "   California  Florida  New York\n",
       "0           0        0         1\n",
       "1           1        0         0\n",
       "2           0        1         0\n",
       "3           0        0         1\n",
       "4           0        1         0"
      ]
     },
     "execution_count": 90,
     "metadata": {},
     "output_type": "execute_result"
    }
   ],
   "source": [
    "## Perform one hot Encoding\n",
    "dumm=pd.get_dummies(df['State']).astype('int')\n",
    "dumm.head()"
   ]
  },
  {
   "cell_type": "code",
   "execution_count": 91,
   "id": "c59899dc",
   "metadata": {},
   "outputs": [
    {
     "data": {
      "text/html": [
       "<div>\n",
       "<style scoped>\n",
       "    .dataframe tbody tr th:only-of-type {\n",
       "        vertical-align: middle;\n",
       "    }\n",
       "\n",
       "    .dataframe tbody tr th {\n",
       "        vertical-align: top;\n",
       "    }\n",
       "\n",
       "    .dataframe thead th {\n",
       "        text-align: right;\n",
       "    }\n",
       "</style>\n",
       "<table border=\"1\" class=\"dataframe\">\n",
       "  <thead>\n",
       "    <tr style=\"text-align: right;\">\n",
       "      <th></th>\n",
       "      <th>R&amp;D Spend</th>\n",
       "      <th>Administration</th>\n",
       "      <th>Marketing Spend</th>\n",
       "      <th>State</th>\n",
       "      <th>Profit</th>\n",
       "      <th>Total_Spending</th>\n",
       "      <th>California</th>\n",
       "      <th>Florida</th>\n",
       "      <th>New York</th>\n",
       "    </tr>\n",
       "  </thead>\n",
       "  <tbody>\n",
       "    <tr>\n",
       "      <th>0</th>\n",
       "      <td>165349.20</td>\n",
       "      <td>136897.80</td>\n",
       "      <td>471784.10</td>\n",
       "      <td>New York</td>\n",
       "      <td>192261.83</td>\n",
       "      <td>774031.10</td>\n",
       "      <td>0</td>\n",
       "      <td>0</td>\n",
       "      <td>1</td>\n",
       "    </tr>\n",
       "    <tr>\n",
       "      <th>1</th>\n",
       "      <td>162597.70</td>\n",
       "      <td>151377.59</td>\n",
       "      <td>443898.53</td>\n",
       "      <td>California</td>\n",
       "      <td>191792.06</td>\n",
       "      <td>757873.82</td>\n",
       "      <td>1</td>\n",
       "      <td>0</td>\n",
       "      <td>0</td>\n",
       "    </tr>\n",
       "    <tr>\n",
       "      <th>2</th>\n",
       "      <td>153441.51</td>\n",
       "      <td>101145.55</td>\n",
       "      <td>407934.54</td>\n",
       "      <td>Florida</td>\n",
       "      <td>191050.39</td>\n",
       "      <td>662521.60</td>\n",
       "      <td>0</td>\n",
       "      <td>1</td>\n",
       "      <td>0</td>\n",
       "    </tr>\n",
       "    <tr>\n",
       "      <th>3</th>\n",
       "      <td>144372.41</td>\n",
       "      <td>118671.85</td>\n",
       "      <td>383199.62</td>\n",
       "      <td>New York</td>\n",
       "      <td>182901.99</td>\n",
       "      <td>646243.88</td>\n",
       "      <td>0</td>\n",
       "      <td>0</td>\n",
       "      <td>1</td>\n",
       "    </tr>\n",
       "    <tr>\n",
       "      <th>4</th>\n",
       "      <td>142107.34</td>\n",
       "      <td>91391.77</td>\n",
       "      <td>366168.42</td>\n",
       "      <td>Florida</td>\n",
       "      <td>166187.94</td>\n",
       "      <td>599667.53</td>\n",
       "      <td>0</td>\n",
       "      <td>1</td>\n",
       "      <td>0</td>\n",
       "    </tr>\n",
       "  </tbody>\n",
       "</table>\n",
       "</div>"
      ],
      "text/plain": [
       "   R&D Spend  Administration  Marketing Spend       State     Profit  \\\n",
       "0  165349.20       136897.80        471784.10    New York  192261.83   \n",
       "1  162597.70       151377.59        443898.53  California  191792.06   \n",
       "2  153441.51       101145.55        407934.54     Florida  191050.39   \n",
       "3  144372.41       118671.85        383199.62    New York  182901.99   \n",
       "4  142107.34        91391.77        366168.42     Florida  166187.94   \n",
       "\n",
       "   Total_Spending  California  Florida  New York  \n",
       "0       774031.10           0        0         1  \n",
       "1       757873.82           1        0         0  \n",
       "2       662521.60           0        1         0  \n",
       "3       646243.88           0        0         1  \n",
       "4       599667.53           0        1         0  "
      ]
     },
     "execution_count": 91,
     "metadata": {},
     "output_type": "execute_result"
    }
   ],
   "source": [
    "# Concatenate the two datas\n",
    "final_data=pd.concat([df,dumm],axis=1)  ## joined column wise i.e why axis=1\n",
    "final_data.head()"
   ]
  },
  {
   "cell_type": "code",
   "execution_count": 92,
   "id": "ffd996e1",
   "metadata": {},
   "outputs": [
    {
     "data": {
      "text/plain": [
       "Index(['R&D Spend', 'Administration', 'Marketing Spend', 'State', 'Profit',\n",
       "       'Total_Spending', 'California', 'Florida', 'New York'],\n",
       "      dtype='object')"
      ]
     },
     "execution_count": 92,
     "metadata": {},
     "output_type": "execute_result"
    }
   ],
   "source": [
    "final_data.columns"
   ]
  },
  {
   "cell_type": "code",
   "execution_count": 93,
   "id": "091a7f85",
   "metadata": {},
   "outputs": [
    {
     "name": "stderr",
     "output_type": "stream",
     "text": [
      "C:\\Users\\Dell\\AppData\\Local\\Temp\\ipykernel_40116\\4285913857.py:1: FutureWarning: The default value of numeric_only in DataFrame.corr is deprecated. In a future version, it will default to False. Select only valid columns or specify the value of numeric_only to silence this warning.\n",
      "  final_data.corr()\n"
     ]
    },
    {
     "data": {
      "text/html": [
       "<div>\n",
       "<style scoped>\n",
       "    .dataframe tbody tr th:only-of-type {\n",
       "        vertical-align: middle;\n",
       "    }\n",
       "\n",
       "    .dataframe tbody tr th {\n",
       "        vertical-align: top;\n",
       "    }\n",
       "\n",
       "    .dataframe thead th {\n",
       "        text-align: right;\n",
       "    }\n",
       "</style>\n",
       "<table border=\"1\" class=\"dataframe\">\n",
       "  <thead>\n",
       "    <tr style=\"text-align: right;\">\n",
       "      <th></th>\n",
       "      <th>R&amp;D Spend</th>\n",
       "      <th>Administration</th>\n",
       "      <th>Marketing Spend</th>\n",
       "      <th>Profit</th>\n",
       "      <th>Total_Spending</th>\n",
       "      <th>California</th>\n",
       "      <th>Florida</th>\n",
       "      <th>New York</th>\n",
       "    </tr>\n",
       "  </thead>\n",
       "  <tbody>\n",
       "    <tr>\n",
       "      <th>R&amp;D Spend</th>\n",
       "      <td>1.000000</td>\n",
       "      <td>0.241955</td>\n",
       "      <td>0.724248</td>\n",
       "      <td>0.973278</td>\n",
       "      <td>0.869663</td>\n",
       "      <td>-0.143165</td>\n",
       "      <td>0.105711</td>\n",
       "      <td>0.039068</td>\n",
       "    </tr>\n",
       "    <tr>\n",
       "      <th>Administration</th>\n",
       "      <td>0.241955</td>\n",
       "      <td>1.000000</td>\n",
       "      <td>-0.032154</td>\n",
       "      <td>0.200885</td>\n",
       "      <td>0.216674</td>\n",
       "      <td>-0.015478</td>\n",
       "      <td>0.010493</td>\n",
       "      <td>0.005145</td>\n",
       "    </tr>\n",
       "    <tr>\n",
       "      <th>Marketing Spend</th>\n",
       "      <td>0.724248</td>\n",
       "      <td>-0.032154</td>\n",
       "      <td>1.000000</td>\n",
       "      <td>0.747993</td>\n",
       "      <td>0.952069</td>\n",
       "      <td>-0.168875</td>\n",
       "      <td>0.205685</td>\n",
       "      <td>-0.033670</td>\n",
       "    </tr>\n",
       "    <tr>\n",
       "      <th>Profit</th>\n",
       "      <td>0.973278</td>\n",
       "      <td>0.200885</td>\n",
       "      <td>0.747993</td>\n",
       "      <td>1.000000</td>\n",
       "      <td>0.872905</td>\n",
       "      <td>-0.145307</td>\n",
       "      <td>0.116038</td>\n",
       "      <td>0.031040</td>\n",
       "    </tr>\n",
       "    <tr>\n",
       "      <th>Total_Spending</th>\n",
       "      <td>0.869663</td>\n",
       "      <td>0.216674</td>\n",
       "      <td>0.952069</td>\n",
       "      <td>0.872905</td>\n",
       "      <td>1.000000</td>\n",
       "      <td>-0.170282</td>\n",
       "      <td>0.186553</td>\n",
       "      <td>-0.013422</td>\n",
       "    </tr>\n",
       "    <tr>\n",
       "      <th>California</th>\n",
       "      <td>-0.143165</td>\n",
       "      <td>-0.015478</td>\n",
       "      <td>-0.168875</td>\n",
       "      <td>-0.145307</td>\n",
       "      <td>-0.170282</td>\n",
       "      <td>1.000000</td>\n",
       "      <td>-0.492366</td>\n",
       "      <td>-0.515152</td>\n",
       "    </tr>\n",
       "    <tr>\n",
       "      <th>Florida</th>\n",
       "      <td>0.105711</td>\n",
       "      <td>0.010493</td>\n",
       "      <td>0.205685</td>\n",
       "      <td>0.116038</td>\n",
       "      <td>0.186553</td>\n",
       "      <td>-0.492366</td>\n",
       "      <td>1.000000</td>\n",
       "      <td>-0.492366</td>\n",
       "    </tr>\n",
       "    <tr>\n",
       "      <th>New York</th>\n",
       "      <td>0.039068</td>\n",
       "      <td>0.005145</td>\n",
       "      <td>-0.033670</td>\n",
       "      <td>0.031040</td>\n",
       "      <td>-0.013422</td>\n",
       "      <td>-0.515152</td>\n",
       "      <td>-0.492366</td>\n",
       "      <td>1.000000</td>\n",
       "    </tr>\n",
       "  </tbody>\n",
       "</table>\n",
       "</div>"
      ],
      "text/plain": [
       "                 R&D Spend  Administration  Marketing Spend    Profit  \\\n",
       "R&D Spend         1.000000        0.241955         0.724248  0.973278   \n",
       "Administration    0.241955        1.000000        -0.032154  0.200885   \n",
       "Marketing Spend   0.724248       -0.032154         1.000000  0.747993   \n",
       "Profit            0.973278        0.200885         0.747993  1.000000   \n",
       "Total_Spending    0.869663        0.216674         0.952069  0.872905   \n",
       "California       -0.143165       -0.015478        -0.168875 -0.145307   \n",
       "Florida           0.105711        0.010493         0.205685  0.116038   \n",
       "New York          0.039068        0.005145        -0.033670  0.031040   \n",
       "\n",
       "                 Total_Spending  California   Florida  New York  \n",
       "R&D Spend              0.869663   -0.143165  0.105711  0.039068  \n",
       "Administration         0.216674   -0.015478  0.010493  0.005145  \n",
       "Marketing Spend        0.952069   -0.168875  0.205685 -0.033670  \n",
       "Profit                 0.872905   -0.145307  0.116038  0.031040  \n",
       "Total_Spending         1.000000   -0.170282  0.186553 -0.013422  \n",
       "California            -0.170282    1.000000 -0.492366 -0.515152  \n",
       "Florida                0.186553   -0.492366  1.000000 -0.492366  \n",
       "New York              -0.013422   -0.515152 -0.492366  1.000000  "
      ]
     },
     "execution_count": 93,
     "metadata": {},
     "output_type": "execute_result"
    }
   ],
   "source": [
    "final_data.corr()"
   ]
  },
  {
   "cell_type": "markdown",
   "id": "5be0e463",
   "metadata": {},
   "source": [
    "This table shows the correlation of all columns with each other"
   ]
  },
  {
   "cell_type": "code",
   "execution_count": 95,
   "id": "8651e6ae",
   "metadata": {},
   "outputs": [
    {
     "data": {
      "text/html": [
       "<div>\n",
       "<style scoped>\n",
       "    .dataframe tbody tr th:only-of-type {\n",
       "        vertical-align: middle;\n",
       "    }\n",
       "\n",
       "    .dataframe tbody tr th {\n",
       "        vertical-align: top;\n",
       "    }\n",
       "\n",
       "    .dataframe thead th {\n",
       "        text-align: right;\n",
       "    }\n",
       "</style>\n",
       "<table border=\"1\" class=\"dataframe\">\n",
       "  <thead>\n",
       "    <tr style=\"text-align: right;\">\n",
       "      <th></th>\n",
       "      <th>R&amp;D Spend</th>\n",
       "      <th>Administration</th>\n",
       "      <th>Marketing Spend</th>\n",
       "      <th>California</th>\n",
       "      <th>Florida</th>\n",
       "      <th>New York</th>\n",
       "    </tr>\n",
       "  </thead>\n",
       "  <tbody>\n",
       "    <tr>\n",
       "      <th>0</th>\n",
       "      <td>165349.20</td>\n",
       "      <td>136897.80</td>\n",
       "      <td>471784.10</td>\n",
       "      <td>0</td>\n",
       "      <td>0</td>\n",
       "      <td>1</td>\n",
       "    </tr>\n",
       "    <tr>\n",
       "      <th>1</th>\n",
       "      <td>162597.70</td>\n",
       "      <td>151377.59</td>\n",
       "      <td>443898.53</td>\n",
       "      <td>1</td>\n",
       "      <td>0</td>\n",
       "      <td>0</td>\n",
       "    </tr>\n",
       "    <tr>\n",
       "      <th>2</th>\n",
       "      <td>153441.51</td>\n",
       "      <td>101145.55</td>\n",
       "      <td>407934.54</td>\n",
       "      <td>0</td>\n",
       "      <td>1</td>\n",
       "      <td>0</td>\n",
       "    </tr>\n",
       "    <tr>\n",
       "      <th>3</th>\n",
       "      <td>144372.41</td>\n",
       "      <td>118671.85</td>\n",
       "      <td>383199.62</td>\n",
       "      <td>0</td>\n",
       "      <td>0</td>\n",
       "      <td>1</td>\n",
       "    </tr>\n",
       "    <tr>\n",
       "      <th>4</th>\n",
       "      <td>142107.34</td>\n",
       "      <td>91391.77</td>\n",
       "      <td>366168.42</td>\n",
       "      <td>0</td>\n",
       "      <td>1</td>\n",
       "      <td>0</td>\n",
       "    </tr>\n",
       "  </tbody>\n",
       "</table>\n",
       "</div>"
      ],
      "text/plain": [
       "   R&D Spend  Administration  Marketing Spend  California  Florida  New York\n",
       "0  165349.20       136897.80        471784.10           0        0         1\n",
       "1  162597.70       151377.59        443898.53           1        0         0\n",
       "2  153441.51       101145.55        407934.54           0        1         0\n",
       "3  144372.41       118671.85        383199.62           0        0         1\n",
       "4  142107.34        91391.77        366168.42           0        1         0"
      ]
     },
     "execution_count": 95,
     "metadata": {},
     "output_type": "execute_result"
    }
   ],
   "source": [
    "x2=final_data[['R&D Spend','Administration','Marketing Spend','California', 'Florida', 'New York']]\n",
    "x2.head()"
   ]
  },
  {
   "cell_type": "code",
   "execution_count": 96,
   "id": "07dde209",
   "metadata": {},
   "outputs": [
    {
     "data": {
      "text/plain": [
       "0    192261.83\n",
       "1    191792.06\n",
       "2    191050.39\n",
       "3    182901.99\n",
       "4    166187.94\n",
       "Name: Profit, dtype: float64"
      ]
     },
     "execution_count": 96,
     "metadata": {},
     "output_type": "execute_result"
    }
   ],
   "source": [
    "y2=final_data['Profit']\n",
    "y2.head()"
   ]
  },
  {
   "cell_type": "code",
   "execution_count": 97,
   "id": "a430ef18",
   "metadata": {},
   "outputs": [],
   "source": [
    "## Sampling of data\n",
    "x_train2,x_test2,y_train2,y_test2=train_test_split(x2,y2,train_size=0.8,random_state=1)"
   ]
  },
  {
   "cell_type": "code",
   "execution_count": 98,
   "id": "f204ae85",
   "metadata": {},
   "outputs": [
    {
     "data": {
      "text/plain": [
       "((40, 6), (40,))"
      ]
     },
     "execution_count": 98,
     "metadata": {},
     "output_type": "execute_result"
    }
   ],
   "source": [
    "x_train2.shape,y_train2.shape"
   ]
  },
  {
   "cell_type": "code",
   "execution_count": 99,
   "id": "32a4ca14",
   "metadata": {},
   "outputs": [
    {
     "data": {
      "text/plain": [
       "((10, 6), (10,))"
      ]
     },
     "execution_count": 99,
     "metadata": {},
     "output_type": "execute_result"
    }
   ],
   "source": [
    "x_test2.shape,y_test2.shape"
   ]
  },
  {
   "cell_type": "code",
   "execution_count": 100,
   "id": "4b861c8e",
   "metadata": {},
   "outputs": [],
   "source": [
    "# No need to reshape the data in case of multiple linear regression"
   ]
  },
  {
   "cell_type": "code",
   "execution_count": 101,
   "id": "f6492e49",
   "metadata": {},
   "outputs": [],
   "source": [
    "# Model building\n",
    "model_train2=model.fit(x_train2,y_train2)"
   ]
  },
  {
   "cell_type": "code",
   "execution_count": 102,
   "id": "3eb40db3",
   "metadata": {},
   "outputs": [
    {
     "name": "stdout",
     "output_type": "stream",
     "text": [
      "The coefficient of the fitted data is:  [ 7.73335031e-01 -9.33715500e-03  2.89415184e-02 -2.53765135e+02\n",
      "  2.78382085e+02 -2.46169500e+01]\n"
     ]
    }
   ],
   "source": [
    "# Coefficient \n",
    "print('The coefficient of the fitted data is: ', model_train2.coef_)"
   ]
  },
  {
   "cell_type": "code",
   "execution_count": 103,
   "id": "a597a8d8",
   "metadata": {},
   "outputs": [
    {
     "name": "stdout",
     "output_type": "stream",
     "text": [
      "The intercept of the fitted data is:  49917.272236739074\n"
     ]
    }
   ],
   "source": [
    "# Intercept\n",
    "print('The intercept of the fitted data is: ', model_train2.intercept_)"
   ]
  },
  {
   "cell_type": "code",
   "execution_count": 104,
   "id": "965af40c",
   "metadata": {},
   "outputs": [
    {
     "name": "stderr",
     "output_type": "stream",
     "text": [
      "C:\\Users\\Dell\\anaconda3\\lib\\site-packages\\sklearn\\base.py:420: UserWarning: X does not have valid feature names, but LinearRegression was fitted with feature names\n",
      "  warnings.warn(\n"
     ]
    },
    {
     "data": {
      "text/plain": [
       "array([114683.77300879,  90630.80031651,  75794.3240149 ,  70282.99316397,\n",
       "       179719.18257596, 171523.2188865 ,  49828.70772877, 102299.53454447,\n",
       "        58730.49534115,  98298.92765486])"
      ]
     },
     "execution_count": 104,
     "metadata": {},
     "output_type": "execute_result"
    }
   ],
   "source": [
    "# Model prediction \n",
    "pred2=model_train2.predict(x_test2.values)\n",
    "pred2"
   ]
  },
  {
   "cell_type": "code",
   "execution_count": 105,
   "id": "62a58491",
   "metadata": {},
   "outputs": [],
   "source": [
    "dd = pd.DataFrame(pred2,columns=[['predicted']])"
   ]
  },
  {
   "cell_type": "code",
   "execution_count": 106,
   "id": "a335ab81",
   "metadata": {},
   "outputs": [],
   "source": [
    "dd['Actual']=y_test2.values"
   ]
  },
  {
   "cell_type": "code",
   "execution_count": 107,
   "id": "2895e483",
   "metadata": {},
   "outputs": [
    {
     "data": {
      "text/html": [
       "<div>\n",
       "<style scoped>\n",
       "    .dataframe tbody tr th:only-of-type {\n",
       "        vertical-align: middle;\n",
       "    }\n",
       "\n",
       "    .dataframe tbody tr th {\n",
       "        vertical-align: top;\n",
       "    }\n",
       "\n",
       "    .dataframe thead tr th {\n",
       "        text-align: left;\n",
       "    }\n",
       "</style>\n",
       "<table border=\"1\" class=\"dataframe\">\n",
       "  <thead>\n",
       "    <tr>\n",
       "      <th></th>\n",
       "      <th>predicted</th>\n",
       "      <th>Actual</th>\n",
       "    </tr>\n",
       "  </thead>\n",
       "  <tbody>\n",
       "    <tr>\n",
       "      <th>0</th>\n",
       "      <td>114683.773009</td>\n",
       "      <td>105008.31</td>\n",
       "    </tr>\n",
       "    <tr>\n",
       "      <th>1</th>\n",
       "      <td>90630.800317</td>\n",
       "      <td>96479.51</td>\n",
       "    </tr>\n",
       "    <tr>\n",
       "      <th>2</th>\n",
       "      <td>75794.324015</td>\n",
       "      <td>78239.91</td>\n",
       "    </tr>\n",
       "    <tr>\n",
       "      <th>3</th>\n",
       "      <td>70282.993164</td>\n",
       "      <td>81229.06</td>\n",
       "    </tr>\n",
       "    <tr>\n",
       "      <th>4</th>\n",
       "      <td>179719.182576</td>\n",
       "      <td>191050.39</td>\n",
       "    </tr>\n",
       "    <tr>\n",
       "      <th>5</th>\n",
       "      <td>171523.218887</td>\n",
       "      <td>182901.99</td>\n",
       "    </tr>\n",
       "    <tr>\n",
       "      <th>6</th>\n",
       "      <td>49828.707729</td>\n",
       "      <td>35673.41</td>\n",
       "    </tr>\n",
       "    <tr>\n",
       "      <th>7</th>\n",
       "      <td>102299.534544</td>\n",
       "      <td>101004.64</td>\n",
       "    </tr>\n",
       "    <tr>\n",
       "      <th>8</th>\n",
       "      <td>58730.495341</td>\n",
       "      <td>49490.75</td>\n",
       "    </tr>\n",
       "    <tr>\n",
       "      <th>9</th>\n",
       "      <td>98298.927655</td>\n",
       "      <td>97483.56</td>\n",
       "    </tr>\n",
       "  </tbody>\n",
       "</table>\n",
       "</div>"
      ],
      "text/plain": [
       "       predicted     Actual\n",
       "0  114683.773009  105008.31\n",
       "1   90630.800317   96479.51\n",
       "2   75794.324015   78239.91\n",
       "3   70282.993164   81229.06\n",
       "4  179719.182576  191050.39\n",
       "5  171523.218887  182901.99\n",
       "6   49828.707729   35673.41\n",
       "7  102299.534544  101004.64\n",
       "8   58730.495341   49490.75\n",
       "9   98298.927655   97483.56"
      ]
     },
     "execution_count": 107,
     "metadata": {},
     "output_type": "execute_result"
    }
   ],
   "source": [
    "dd"
   ]
  },
  {
   "cell_type": "code",
   "execution_count": 109,
   "id": "37e1c66d",
   "metadata": {},
   "outputs": [
    {
     "name": "stdout",
     "output_type": "stream",
     "text": [
      "The strength of the model 2 is: 0.965\n"
     ]
    }
   ],
   "source": [
    "# R square value \n",
    "print('The strength of the model 2 is:',round((r2_score(dd['Actual'],dd['predicted'])),3))"
   ]
  },
  {
   "cell_type": "markdown",
   "id": "22a91465",
   "metadata": {},
   "source": [
    "1. The strength of the model 2 is very strong since r square value lies between 0 and 1.\n",
    "2. strongest when approaches 1 and weakest when approaches 0.\n"
   ]
  },
  {
   "cell_type": "code",
   "execution_count": 112,
   "id": "9626b319",
   "metadata": {},
   "outputs": [
    {
     "name": "stdout",
     "output_type": "stream",
     "text": [
      "The root mean square value of the model is : 8941.917\n"
     ]
    }
   ],
   "source": [
    "# RMSE\n",
    "RMSE= sqrt(mean_squared_error(dd['Actual'],dd['predicted']))\n",
    "print('The root mean square value of the model is :',round(RMSE,3))"
   ]
  },
  {
   "cell_type": "code",
   "execution_count": 113,
   "id": "7f479748",
   "metadata": {},
   "outputs": [],
   "source": [
    "## saving the model using joblib"
   ]
  },
  {
   "cell_type": "code",
   "execution_count": 114,
   "id": "1de92142",
   "metadata": {},
   "outputs": [],
   "source": [
    "import joblib"
   ]
  },
  {
   "cell_type": "code",
   "execution_count": 115,
   "id": "735cf33a",
   "metadata": {},
   "outputs": [],
   "source": [
    "filename='50_startups_prj3.sav'"
   ]
  },
  {
   "cell_type": "code",
   "execution_count": 116,
   "id": "ecf265a2",
   "metadata": {},
   "outputs": [
    {
     "data": {
      "text/plain": [
       "['50_startups_prj3.sav']"
      ]
     },
     "execution_count": 116,
     "metadata": {},
     "output_type": "execute_result"
    }
   ],
   "source": [
    "joblib.dump(model_train2,filename)"
   ]
  },
  {
   "cell_type": "code",
   "execution_count": null,
   "id": "e9219ca5",
   "metadata": {},
   "outputs": [],
   "source": []
  }
 ],
 "metadata": {
  "kernelspec": {
   "display_name": "Python 3 (ipykernel)",
   "language": "python",
   "name": "python3"
  },
  "language_info": {
   "codemirror_mode": {
    "name": "ipython",
    "version": 3
   },
   "file_extension": ".py",
   "mimetype": "text/x-python",
   "name": "python",
   "nbconvert_exporter": "python",
   "pygments_lexer": "ipython3",
   "version": "3.10.9"
  }
 },
 "nbformat": 4,
 "nbformat_minor": 5
}
