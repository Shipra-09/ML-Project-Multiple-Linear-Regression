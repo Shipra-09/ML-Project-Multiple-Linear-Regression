{
 "cells": [
  {
   "cell_type": "markdown",
   "id": "413c9449",
   "metadata": {},
   "source": [
    "## Project 3: 50 Startups"
   ]
  },
  {
   "cell_type": "markdown",
   "id": "ba7988c7",
   "metadata": {},
   "source": [
    "Objective - Is to prepare a prediction model for Profit earned in the startups from different states using spending amount"
   ]
  },
  {
   "cell_type": "code",
   "execution_count": 1,
   "id": "adadcf74",
   "metadata": {},
   "outputs": [],
   "source": [
    "import pandas as pd\n",
    "import numpy as np\n",
    "import matplotlib.pyplot as plt\n",
    "import seaborn as sns "
   ]
  },
  {
   "cell_type": "code",
   "execution_count": 2,
   "id": "284f761f",
   "metadata": {},
   "outputs": [
    {
     "data": {
      "text/html": [
       "<div>\n",
       "<style scoped>\n",
       "    .dataframe tbody tr th:only-of-type {\n",
       "        vertical-align: middle;\n",
       "    }\n",
       "\n",
       "    .dataframe tbody tr th {\n",
       "        vertical-align: top;\n",
       "    }\n",
       "\n",
       "    .dataframe thead th {\n",
       "        text-align: right;\n",
       "    }\n",
       "</style>\n",
       "<table border=\"1\" class=\"dataframe\">\n",
       "  <thead>\n",
       "    <tr style=\"text-align: right;\">\n",
       "      <th></th>\n",
       "      <th>R&amp;D Spend</th>\n",
       "      <th>Administration</th>\n",
       "      <th>Marketing Spend</th>\n",
       "      <th>State</th>\n",
       "      <th>Profit</th>\n",
       "    </tr>\n",
       "  </thead>\n",
       "  <tbody>\n",
       "    <tr>\n",
       "      <th>0</th>\n",
       "      <td>165349.20</td>\n",
       "      <td>136897.80</td>\n",
       "      <td>471784.10</td>\n",
       "      <td>New York</td>\n",
       "      <td>192261.83</td>\n",
       "    </tr>\n",
       "    <tr>\n",
       "      <th>1</th>\n",
       "      <td>162597.70</td>\n",
       "      <td>151377.59</td>\n",
       "      <td>443898.53</td>\n",
       "      <td>California</td>\n",
       "      <td>191792.06</td>\n",
       "    </tr>\n",
       "    <tr>\n",
       "      <th>2</th>\n",
       "      <td>153441.51</td>\n",
       "      <td>101145.55</td>\n",
       "      <td>407934.54</td>\n",
       "      <td>Florida</td>\n",
       "      <td>191050.39</td>\n",
       "    </tr>\n",
       "    <tr>\n",
       "      <th>3</th>\n",
       "      <td>144372.41</td>\n",
       "      <td>118671.85</td>\n",
       "      <td>383199.62</td>\n",
       "      <td>New York</td>\n",
       "      <td>182901.99</td>\n",
       "    </tr>\n",
       "    <tr>\n",
       "      <th>4</th>\n",
       "      <td>142107.34</td>\n",
       "      <td>91391.77</td>\n",
       "      <td>366168.42</td>\n",
       "      <td>Florida</td>\n",
       "      <td>166187.94</td>\n",
       "    </tr>\n",
       "  </tbody>\n",
       "</table>\n",
       "</div>"
      ],
      "text/plain": [
       "   R&D Spend  Administration  Marketing Spend       State     Profit\n",
       "0  165349.20       136897.80        471784.10    New York  192261.83\n",
       "1  162597.70       151377.59        443898.53  California  191792.06\n",
       "2  153441.51       101145.55        407934.54     Florida  191050.39\n",
       "3  144372.41       118671.85        383199.62    New York  182901.99\n",
       "4  142107.34        91391.77        366168.42     Florida  166187.94"
      ]
     },
     "execution_count": 2,
     "metadata": {},
     "output_type": "execute_result"
    }
   ],
   "source": [
    "data=pd.read_csv('D:/Data Science/TOPMENTOR-DS/Machine Learning/Project_3&4_Multiple_Reg/50_Startup Project-3/50_Startups_dataset.csv')\n",
    "data.head()\n"
   ]
  },
  {
   "cell_type": "code",
   "execution_count": 78,
   "id": "0504f7cc",
   "metadata": {},
   "outputs": [
    {
     "data": {
      "text/html": [
       "<div>\n",
       "<style scoped>\n",
       "    .dataframe tbody tr th:only-of-type {\n",
       "        vertical-align: middle;\n",
       "    }\n",
       "\n",
       "    .dataframe tbody tr th {\n",
       "        vertical-align: top;\n",
       "    }\n",
       "\n",
       "    .dataframe thead th {\n",
       "        text-align: right;\n",
       "    }\n",
       "</style>\n",
       "<table border=\"1\" class=\"dataframe\">\n",
       "  <thead>\n",
       "    <tr style=\"text-align: right;\">\n",
       "      <th></th>\n",
       "      <th>R&amp;D Spend</th>\n",
       "      <th>Administration</th>\n",
       "      <th>Marketing Spend</th>\n",
       "      <th>State</th>\n",
       "      <th>Profit</th>\n",
       "    </tr>\n",
       "  </thead>\n",
       "  <tbody>\n",
       "    <tr>\n",
       "      <th>0</th>\n",
       "      <td>165349.20</td>\n",
       "      <td>136897.80</td>\n",
       "      <td>471784.10</td>\n",
       "      <td>New York</td>\n",
       "      <td>192261.83</td>\n",
       "    </tr>\n",
       "    <tr>\n",
       "      <th>1</th>\n",
       "      <td>162597.70</td>\n",
       "      <td>151377.59</td>\n",
       "      <td>443898.53</td>\n",
       "      <td>California</td>\n",
       "      <td>191792.06</td>\n",
       "    </tr>\n",
       "    <tr>\n",
       "      <th>2</th>\n",
       "      <td>153441.51</td>\n",
       "      <td>101145.55</td>\n",
       "      <td>407934.54</td>\n",
       "      <td>Florida</td>\n",
       "      <td>191050.39</td>\n",
       "    </tr>\n",
       "    <tr>\n",
       "      <th>3</th>\n",
       "      <td>144372.41</td>\n",
       "      <td>118671.85</td>\n",
       "      <td>383199.62</td>\n",
       "      <td>New York</td>\n",
       "      <td>182901.99</td>\n",
       "    </tr>\n",
       "    <tr>\n",
       "      <th>4</th>\n",
       "      <td>142107.34</td>\n",
       "      <td>91391.77</td>\n",
       "      <td>366168.42</td>\n",
       "      <td>Florida</td>\n",
       "      <td>166187.94</td>\n",
       "    </tr>\n",
       "  </tbody>\n",
       "</table>\n",
       "</div>"
      ],
      "text/plain": [
       "   R&D Spend  Administration  Marketing Spend       State     Profit\n",
       "0  165349.20       136897.80        471784.10    New York  192261.83\n",
       "1  162597.70       151377.59        443898.53  California  191792.06\n",
       "2  153441.51       101145.55        407934.54     Florida  191050.39\n",
       "3  144372.41       118671.85        383199.62    New York  182901.99\n",
       "4  142107.34        91391.77        366168.42     Florida  166187.94"
      ]
     },
     "execution_count": 78,
     "metadata": {},
     "output_type": "execute_result"
    }
   ],
   "source": [
    "df=data.copy()\n",
    "df.head()"
   ]
  },
  {
   "cell_type": "code",
   "execution_count": 4,
   "id": "64f0f027",
   "metadata": {},
   "outputs": [
    {
     "data": {
      "text/plain": [
       "R&D Spend          0\n",
       "Administration     0\n",
       "Marketing Spend    0\n",
       "State              0\n",
       "Profit             0\n",
       "dtype: int64"
      ]
     },
     "execution_count": 4,
     "metadata": {},
     "output_type": "execute_result"
    }
   ],
   "source": [
    "# to check the null values\n",
    "df.isnull().sum()"
   ]
  },
  {
   "cell_type": "markdown",
   "id": "b4588bf9",
   "metadata": {},
   "source": [
    "There are no null values in the data."
   ]
  },
  {
   "cell_type": "markdown",
   "id": "a4f1ccc8",
   "metadata": {},
   "source": [
    "### Exploratory Data Analysis (EDA)"
   ]
  },
  {
   "cell_type": "code",
   "execution_count": 74,
   "id": "f67ad8b1",
   "metadata": {},
   "outputs": [
    {
     "data": {
      "text/plain": [
       "Text(0.5, 1.0, 'R&D wise Profit')"
      ]
     },
     "execution_count": 74,
     "metadata": {},
     "output_type": "execute_result"
    },
    {
     "data": {
      "image/png": "[encoded data removed]",
      "text/plain": [
       "<Figure size 720x216 with 1 Axes>"
      ]
     },
     "metadata": {
      "needs_background": "light"
     },
     "output_type": "display_data"
    }
   ],
   "source": [
    "## variation of R&D spend with the profit earned\n",
    "plt.figure(figsize=(10,3))\n",
    "sns.lineplot(x='R&D Spend',y='Profit',data=df)\n",
    "plt.savefig('R&D wise Profit.jpg',bbox_inches='tight',dpi=200)\n",
    "plt.title('R&D wise Profit')"
   ]
  },
  {
   "cell_type": "markdown",
   "id": "257d4bf3",
   "metadata": {},
   "source": [
    "Increase in the R&D spending results in enahnced profit"
   ]
  },
  {
   "cell_type": "code",
   "execution_count": 75,
   "id": "de0ee5bd",
   "metadata": {},
   "outputs": [
    {
     "data": {
      "text/plain": [
       "Text(0.5, 1.0, 'Administration spending wise Profit')"
      ]
     },
     "execution_count": 75,
     "metadata": {},
     "output_type": "execute_result"
    },
    {
     "data": {
      "image/png": "[encoded data removed]",
      "text/plain": [
       "<Figure size 720x216 with 1 Axes>"
      ]
     },
     "metadata": {
      "needs_background": "light"
     },
     "output_type": "display_data"
    }
   ],
   "source": [
    "## variation of Administration with the profit earned\n",
    "plt.figure(figsize=(10,3))\n",
    "sns.lineplot(x='Administration',y='Profit',data=df)\n",
    "plt.savefig('Admin wise Profit.jpg',bbox_inches='tight',dpi=200)\n",
    "plt.title('Administration spending wise Profit')\n",
    "#plt.xlabel('Administration')\n",
    "# plt.y1111label('Profit')"
   ]
  },
  {
   "cell_type": "markdown",
   "id": "4a8b1e0b",
   "metadata": {},
   "source": [
    "1. The data is abrupt and does not tells about the clearer picture. \n",
    "2. The profit of the startup does not depends upon the adminitration spending. "
   ]
  },
  {
   "cell_type": "code",
   "execution_count": 76,
   "id": "debd0e9f",
   "metadata": {},
   "outputs": [
    {
     "data": {
      "text/plain": [
       "Text(0.5, 1.0, 'Market spending wise Profit')"
      ]
     },
     "execution_count": 76,
     "metadata": {},
     "output_type": "execute_result"
    },
    {
     "data": {
      "image/png": "[encoded data removed]",
      "text/plain": [
       "<Figure size 720x216 with 1 Axes>"
      ]
     },
     "metadata": {
      "needs_background": "light"
     },
     "output_type": "display_data"
    }
   ],
   "source": [
    "## variation of Marketing spend with the profit earned\n",
    "plt.figure(figsize=(10,3))\n",
    "sns.lineplot(x='Marketing Spend',y='Profit',data=df)\n",
    "plt.savefig('Marketing wise Profit.jpg',bbox_inches='tight',dpi=200)\n",
    "plt.title('Market spending wise Profit')"
   ]
  },
  {
   "cell_type": "markdown",
   "id": "4f27089f",
   "metadata": {},
   "source": [
    "1. From the graphs, it is clear that the marketing spend only partially plays the role in profit earned. \n",
    "2. The profit of the startup partially depends upon the Marketing spending as it also depends on other factors. "
   ]
  },
  {
   "cell_type": "code",
   "execution_count": 79,
   "id": "01b0ad64",
   "metadata": {},
   "outputs": [
    {
     "data": {
      "text/plain": [
       "Text(0.5, 1.0, 'R&D spending wise Profit of different states')"
      ]
     },
     "execution_count": 79,
     "metadata": {},
     "output_type": "execute_result"
    },
    {
     "data": {
      "image/png": "[encoded data removed]",
      "text/plain": [
       "<Figure size 720x216 with 1 Axes>"
      ]
     },
     "metadata": {
      "needs_background": "light"
     },
     "output_type": "display_data"
    }
   ],
   "source": [
    "## variation of R&D Spend with the profit earned for different states\n",
    "plt.figure(figsize=(10,3))\n",
    "sns.lineplot(x='R&D Spend',y='Profit',hue='State',data=df)\n",
    "plt.savefig('R&D wise Profit of states.jpg',bbox_inches='tight',dpi=200)\n",
    "plt.title('R&D spending wise Profit of different states')"
   ]
  },
  {
   "cell_type": "markdown",
   "id": "90381efe",
   "metadata": {},
   "source": [
    "1. The R&D spending and the profit earned in the startup is almost close for all the states.\n",
    "2. Profit earned in the startup is more likely to depend upon R&D spending."
   ]
  },
  {
   "cell_type": "code",
   "execution_count": 82,
   "id": "117e78d6",
   "metadata": {},
   "outputs": [
    {
     "data": {
      "text/plain": [
       "Text(0.5, 1.0, 'State wise R&D spending')"
      ]
     },
     "execution_count": 82,
     "metadata": {},
     "output_type": "execute_result"
    },
    {
     "data": {
      "image/png": "[encoded data removed]",
      "text/plain": [
       "<Figure size 360x288 with 1 Axes>"
      ]
     },
     "metadata": {
      "needs_background": "light"
     },
     "output_type": "display_data"
    }
   ],
   "source": [
    "# State wise R&D spending \n",
    "plt.figure(figsize=(5,4))\n",
    "sns.barplot(x='State',y='R&D Spend',data=df,errwidth=None)\n",
    "plt.savefig('State wise R&D spending.jpg',bbox_inches='tight',dpi=200)\n",
    "plt.title('State wise R&D spending')"
   ]
  },
  {
   "cell_type": "markdown",
   "id": "e228e601",
   "metadata": {},
   "source": [
    "1. California spends the least in R&D sector.\n",
    "2. New York and Florida has spends almost equal amount.\n",
    "3. This data shows that profit earned in the startups are more likely to depend upon the R&D spending."
   ]
  },
  {
   "cell_type": "code",
   "execution_count": 84,
   "id": "ab5bdf45",
   "metadata": {},
   "outputs": [
    {
     "data": {
      "text/plain": [
       "Text(0.5, 1.0, 'State wise profit')"
      ]
     },
     "execution_count": 84,
     "metadata": {},
     "output_type": "execute_result"
    },
    {
     "data": {
      "image/png": "[encoded data removed]",
      "text/plain": [
       "<Figure size 360x288 with 1 Axes>"
      ]
     },
     "metadata": {
      "needs_background": "light"
     },
     "output_type": "display_data"
    }
   ],
   "source": [
    "# State wise Profit earned\n",
    "plt.figure(figsize=(5,4))\n",
    "sns.barplot(x='State',y='Profit',data=df)\n",
    "plt.savefig('State wise profit.jpg',bbox_inches='tight',dpi=200)\n",
    "plt.title('State wise profit')"
   ]
  },
  {
   "cell_type": "markdown",
   "id": "b082c763",
   "metadata": {},
   "source": [
    "1. Profit earned in the startups for California states is the least.\n",
    "2. New York and Florida has earned almost equal profit but a slightly higher by Florida state.\n",
    "3. This also means that least R&D spending by led to less profit.\n",
    "4. R&D spending is directly proportional to profit earned."
   ]
  },
  {
   "cell_type": "code",
   "execution_count": 86,
   "id": "cf59d437",
   "metadata": {},
   "outputs": [
    {
     "data": {
      "text/plain": [
       "Text(0.5, 1.0, 'State wise Marketing spend')"
      ]
     },
     "execution_count": 86,
     "metadata": {},
     "output_type": "execute_result"
    },
    {
     "data": {
      "image/png": "[encoded data removed]",
      "text/plain": [
       "<Figure size 360x288 with 1 Axes>"
      ]
     },
     "metadata": {
      "needs_background": "light"
     },
     "output_type": "display_data"
    }
   ],
   "source": [
    "# State wise Marketing spend \n",
    "plt.figure(figsize=(5,4))\n",
    "sns.barplot(x='State',y='Marketing Spend',data=df)\n",
    "plt.savefig('State wise Marketing spend.jpg',bbox_inches='tight',dpi=200) \n",
    "plt.title('State wise Marketing spend')\n",
    "## bbox_inches is used to make sure that the label does not cut off after saving"
   ]
  },
  {
   "cell_type": "markdown",
   "id": "4aa0d448",
   "metadata": {},
   "source": [
    "1. Florida spends the most in Marketing sector followed by New York and California.\n",
    "2. This data shows that profit earned in the startups are likely to depend upon the marketing as well as R&D spending."
   ]
  },
  {
   "cell_type": "code",
   "execution_count": 87,
   "id": "b960b17a",
   "metadata": {},
   "outputs": [
    {
     "name": "stdout",
     "output_type": "stream",
     "text": [
      "The skewness is : 0.16\n",
      "count        50.000000\n",
      "mean      73721.615600\n",
      "std       45902.256482\n",
      "min           0.000000\n",
      "25%       39936.370000\n",
      "50%       73051.080000\n",
      "75%      101602.800000\n",
      "max      165349.200000\n",
      "Name: R&D Spend, dtype: float64\n"
     ]
    },
    {
     "data": {
      "image/png": "[encoded data removed]",
      "text/plain": [
       "<Figure size 360x360 with 1 Axes>"
      ]
     },
     "metadata": {
      "needs_background": "light"
     },
     "output_type": "display_data"
    }
   ],
   "source": [
    "# Distribution of R&D spend data\n",
    "sns.displot(df['R&D Spend'])\n",
    "print('The skewness is :', round(df['R&D Spend'].skew(),2))\n",
    "print(df['R&D Spend'].describe())\n",
    "plt.savefig('Distribution of R&D.jpg')"
   ]
  },
  {
   "cell_type": "markdown",
   "id": "4b3491e0",
   "metadata": {},
   "source": [
    "1. The R&D data is normally distributed.\n",
    "2. The skewness is 0.16 which lies between -1 and 1 that means normal distribution. "
   ]
  },
  {
   "cell_type": "code",
   "execution_count": 88,
   "id": "7b8a7e5c",
   "metadata": {},
   "outputs": [
    {
     "name": "stdout",
     "output_type": "stream",
     "text": [
      "The skewness is : -0.49\n",
      "count        50.000000\n",
      "mean     121344.639600\n",
      "std       28017.802755\n",
      "min       51283.140000\n",
      "25%      103730.875000\n",
      "50%      122699.795000\n",
      "75%      144842.180000\n",
      "max      182645.560000\n",
      "Name: Administration, dtype: float64\n"
     ]
    },
    {
     "data": {
      "image/png": "[encoded data removed]",
      "text/plain": [
       "<Figure size 360x360 with 1 Axes>"
      ]
     },
     "metadata": {
      "needs_background": "light"
     },
     "output_type": "display_data"
    }
   ],
   "source": [
    "# Distribution of Administration spend data\n",
    "sns.displot(df['Administration'])\n",
    "print('The skewness is :', round(df['Administration'].skew(),2))\n",
    "print(df['Administration'].describe())\n",
    "plt.savefig('Distribution of Administration.jpg')"
   ]
  },
  {
   "cell_type": "markdown",
   "id": "8dd34885",
   "metadata": {},
   "source": [
    "1. The Administrative data is normally distributed.\n",
    "2. The skewness is -0.49 which lies between -1 and 1 that means normal distribution. "
   ]
  },
  {
   "cell_type": "code",
   "execution_count": 89,
   "id": "3b3b39c5",
   "metadata": {},
   "outputs": [
    {
     "name": "stdout",
     "output_type": "stream",
     "text": [
      "The skewness is : -0.05\n",
      "count        50.000000\n",
      "mean     211025.097800\n",
      "std      122290.310726\n",
      "min           0.000000\n",
      "25%      129300.132500\n",
      "50%      212716.240000\n",
      "75%      299469.085000\n",
      "max      471784.100000\n",
      "Name: Marketing Spend, dtype: float64\n"
     ]
    },
    {
     "data": {
      "image/png": "[encoded data removed]",
      "text/plain": [
       "<Figure size 360x360 with 1 Axes>"
      ]
     },
     "metadata": {
      "needs_background": "light"
     },
     "output_type": "display_data"
    }
   ],
   "source": [
    "# Distribution of Marketing spend data\n",
    "sns.displot(df['Marketing Spend'])\n",
    "print('The skewness is :', round(df['Marketing Spend'].skew(),2))\n",
    "print(df['Marketing Spend'].describe())\n",
    "plt.savefig('Distribution of Marketing.jpg')"
   ]
  },
  {
   "cell_type": "markdown",
   "id": "d692ffd9",
   "metadata": {},
   "source": [
    "1. The Marketing data is normally distributed.\n",
    "2. The skewness is -0.05 which lies between -1 and 1 that means normal distribution. "
   ]
  },
  {
   "cell_type": "code",
   "execution_count": 90,
   "id": "cfdc89ec",
   "metadata": {},
   "outputs": [
    {
     "name": "stdout",
     "output_type": "stream",
     "text": [
      "The skewness is : 0.02\n",
      "count        50.000000\n",
      "mean     112012.639200\n",
      "std       40306.180338\n",
      "min       14681.400000\n",
      "25%       90138.902500\n",
      "50%      107978.190000\n",
      "75%      139765.977500\n",
      "max      192261.830000\n",
      "Name: Profit, dtype: float64\n"
     ]
    },
    {
     "data": {
      "image/png": "[encoded data removed]",
      "text/plain": [
       "<Figure size 360x360 with 1 Axes>"
      ]
     },
     "metadata": {
      "needs_background": "light"
     },
     "output_type": "display_data"
    }
   ],
   "source": [
    "# Distribution of Profit earned data\n",
    "sns.displot(df['Profit'])\n",
    "print('The skewness is :', round(df['Profit'].skew(),2))\n",
    "print(df['Profit'].describe())\n",
    "plt.savefig('Distribution of Profit.jpg')"
   ]
  },
  {
   "cell_type": "markdown",
   "id": "1b9f4086",
   "metadata": {},
   "source": [
    "1. The Profit data is normally distributed.\n",
    "2. The skewness is 0.02 which lies between -1 and 1 that means normal distribution. "
   ]
  },
  {
   "cell_type": "code",
   "execution_count": 92,
   "id": "7eee3cc8",
   "metadata": {},
   "outputs": [
    {
     "data": {
      "text/html": [
       "<div>\n",
       "<style scoped>\n",
       "    .dataframe tbody tr th:only-of-type {\n",
       "        vertical-align: middle;\n",
       "    }\n",
       "\n",
       "    .dataframe tbody tr th {\n",
       "        vertical-align: top;\n",
       "    }\n",
       "\n",
       "    .dataframe thead th {\n",
       "        text-align: right;\n",
       "    }\n",
       "</style>\n",
       "<table border=\"1\" class=\"dataframe\">\n",
       "  <thead>\n",
       "    <tr style=\"text-align: right;\">\n",
       "      <th></th>\n",
       "      <th>R&amp;D Spend</th>\n",
       "      <th>Administration</th>\n",
       "      <th>Marketing Spend</th>\n",
       "      <th>Profit</th>\n",
       "    </tr>\n",
       "  </thead>\n",
       "  <tbody>\n",
       "    <tr>\n",
       "      <th>R&amp;D Spend</th>\n",
       "      <td>1.000000</td>\n",
       "      <td>0.241955</td>\n",
       "      <td>0.724248</td>\n",
       "      <td>0.972900</td>\n",
       "    </tr>\n",
       "    <tr>\n",
       "      <th>Administration</th>\n",
       "      <td>0.241955</td>\n",
       "      <td>1.000000</td>\n",
       "      <td>-0.032154</td>\n",
       "      <td>0.200717</td>\n",
       "    </tr>\n",
       "    <tr>\n",
       "      <th>Marketing Spend</th>\n",
       "      <td>0.724248</td>\n",
       "      <td>-0.032154</td>\n",
       "      <td>1.000000</td>\n",
       "      <td>0.747766</td>\n",
       "    </tr>\n",
       "    <tr>\n",
       "      <th>Profit</th>\n",
       "      <td>0.972900</td>\n",
       "      <td>0.200717</td>\n",
       "      <td>0.747766</td>\n",
       "      <td>1.000000</td>\n",
       "    </tr>\n",
       "  </tbody>\n",
       "</table>\n",
       "</div>"
      ],
      "text/plain": [
       "                 R&D Spend  Administration  Marketing Spend    Profit\n",
       "R&D Spend         1.000000        0.241955         0.724248  0.972900\n",
       "Administration    0.241955        1.000000        -0.032154  0.200717\n",
       "Marketing Spend   0.724248       -0.032154         1.000000  0.747766\n",
       "Profit            0.972900        0.200717         0.747766  1.000000"
      ]
     },
     "execution_count": 92,
     "metadata": {},
     "output_type": "execute_result"
    },
    {
     "data": {
      "image/png": "[encoded data removed]",
      "text/plain": [
       "<Figure size 720x720 with 20 Axes>"
      ]
     },
     "metadata": {
      "needs_background": "light"
     },
     "output_type": "display_data"
    }
   ],
   "source": [
    "# correlation between them\n",
    "sns.pairplot(df)\n",
    "df.corr()"
   ]
  },
  {
   "cell_type": "markdown",
   "id": "72f8365b",
   "metadata": {},
   "source": [
    "R&D spending and marketing are correlated with the profit earned."
   ]
  },
  {
   "cell_type": "code",
   "execution_count": 93,
   "id": "26e005c8",
   "metadata": {},
   "outputs": [
    {
     "data": {
      "image/png": "[encoded data removed]",
      "text/plain": [
       "<Figure size 432x288 with 1 Axes>"
      ]
     },
     "metadata": {
      "needs_background": "light"
     },
     "output_type": "display_data"
    }
   ],
   "source": [
    "## Box plot of R&D spend data---------to check the presence of outliers\n",
    "sns.boxplot(x=df['R&D Spend'])\n",
    "plt.savefig('Box plot R&D spend.jpg')"
   ]
  },
  {
   "cell_type": "markdown",
   "id": "dddcd147",
   "metadata": {},
   "source": [
    "No Outliers present in the R&D spending data"
   ]
  },
  {
   "cell_type": "code",
   "execution_count": 95,
   "id": "4c8dda07",
   "metadata": {},
   "outputs": [
    {
     "data": {
      "image/png": "[encoded data removed]",
      "text/plain": [
       "<Figure size 432x288 with 1 Axes>"
      ]
     },
     "metadata": {
      "needs_background": "light"
     },
     "output_type": "display_data"
    }
   ],
   "source": [
    "## Box plot of Administration data and Marketing data---------to check the presence of outliers\n",
    "sns.boxplot(x=df['Administration'])\n",
    "plt.savefig('Box plot Administration.jpg')\n"
   ]
  },
  {
   "cell_type": "markdown",
   "id": "22517dd5",
   "metadata": {},
   "source": [
    "No Outliers present in the Administration data"
   ]
  },
  {
   "cell_type": "code",
   "execution_count": 96,
   "id": "ec4eb620",
   "metadata": {},
   "outputs": [
    {
     "data": {
      "image/png": "[encoded data removed]",
      "text/plain": [
       "<Figure size 432x288 with 1 Axes>"
      ]
     },
     "metadata": {
      "needs_background": "light"
     },
     "output_type": "display_data"
    }
   ],
   "source": [
    "## Box plot of Marketing Spend data---------to check the presence of outliers\n",
    "sns.boxplot(x=df['Marketing Spend'])\n",
    "plt.savefig('Box plot Marketing Spend.jpg')"
   ]
  },
  {
   "cell_type": "markdown",
   "id": "8c32f522",
   "metadata": {},
   "source": [
    "No Outliers present in the Marketing data"
   ]
  },
  {
   "cell_type": "code",
   "execution_count": 97,
   "id": "e2aa4248",
   "metadata": {},
   "outputs": [
    {
     "data": {
      "image/png": "[encoded data removed]",
      "text/plain": [
       "<Figure size 432x288 with 1 Axes>"
      ]
     },
     "metadata": {
      "needs_background": "light"
     },
     "output_type": "display_data"
    }
   ],
   "source": [
    "## Box plot of Profit data---------to check the presence of outliers\n",
    "sns.boxplot(x=df['Profit'])\n",
    "plt.savefig('Box plot Profit.jpg')"
   ]
  },
  {
   "cell_type": "markdown",
   "id": "9078195c",
   "metadata": {},
   "source": [
    "1. One outlier is present in Profit earned data\n",
    "2. It present in the left side."
   ]
  },
  {
   "cell_type": "code",
   "execution_count": 98,
   "id": "be6aac17",
   "metadata": {},
   "outputs": [
    {
     "name": "stdout",
     "output_type": "stream",
     "text": [
      "The value of Q1 is:  90138.9025\n",
      "The value of Q3 is:  139765.97749999998\n"
     ]
    }
   ],
   "source": [
    "## Adjust/Remove the Outlier present in the Profit coloumn\n",
    "Q1 = df['Profit'].quantile(0.25)\n",
    "print('The value of Q1 is: ', Q1)\n",
    "Q3 = df['Profit'].quantile(0.75)\n",
    "print('The value of Q3 is: ', Q3)"
   ]
  },
  {
   "cell_type": "code",
   "execution_count": 99,
   "id": "dd85f787",
   "metadata": {},
   "outputs": [
    {
     "name": "stdout",
     "output_type": "stream",
     "text": [
      "The value of IQR is:  49627.07499999998\n",
      "The value of lower threshld is : 15698.29\n"
     ]
    }
   ],
   "source": [
    "IQR=Q3-Q1\n",
    "print('The value of IQR is: ', IQR)\n",
    "lower_thres = Q1 - (1.5*IQR)\n",
    "print('The value of lower threshld is :',round(lower_thres,2))"
   ]
  },
  {
   "cell_type": "code",
   "execution_count": 100,
   "id": "e55a86de",
   "metadata": {},
   "outputs": [
    {
     "data": {
      "text/html": [
       "<div>\n",
       "<style scoped>\n",
       "    .dataframe tbody tr th:only-of-type {\n",
       "        vertical-align: middle;\n",
       "    }\n",
       "\n",
       "    .dataframe tbody tr th {\n",
       "        vertical-align: top;\n",
       "    }\n",
       "\n",
       "    .dataframe thead th {\n",
       "        text-align: right;\n",
       "    }\n",
       "</style>\n",
       "<table border=\"1\" class=\"dataframe\">\n",
       "  <thead>\n",
       "    <tr style=\"text-align: right;\">\n",
       "      <th></th>\n",
       "      <th>R&amp;D Spend</th>\n",
       "      <th>Administration</th>\n",
       "      <th>Marketing Spend</th>\n",
       "      <th>State</th>\n",
       "      <th>Profit</th>\n",
       "    </tr>\n",
       "  </thead>\n",
       "  <tbody>\n",
       "    <tr>\n",
       "      <th>49</th>\n",
       "      <td>0.0</td>\n",
       "      <td>116983.8</td>\n",
       "      <td>45173.06</td>\n",
       "      <td>California</td>\n",
       "      <td>14681.4</td>\n",
       "    </tr>\n",
       "  </tbody>\n",
       "</table>\n",
       "</div>"
      ],
      "text/plain": [
       "    R&D Spend  Administration  Marketing Spend       State   Profit\n",
       "49        0.0        116983.8         45173.06  California  14681.4"
      ]
     },
     "execution_count": 100,
     "metadata": {},
     "output_type": "execute_result"
    }
   ],
   "source": [
    "df[df['Profit']<lower_thres]"
   ]
  },
  {
   "cell_type": "markdown",
   "id": "eeaf007b",
   "metadata": {},
   "source": [
    "So, there is only outlier present in 49th row"
   ]
  },
  {
   "cell_type": "code",
   "execution_count": 101,
   "id": "e84f69db",
   "metadata": {},
   "outputs": [],
   "source": [
    "## Will Change the row in order to avoid outlier\n",
    "df['Profit'] = np.where(df['Profit']<lower_thres,lower_thres,df['Profit']) "
   ]
  },
  {
   "cell_type": "code",
   "execution_count": 102,
   "id": "a5dd1623",
   "metadata": {},
   "outputs": [
    {
     "data": {
      "image/png": "[encoded data removed]",
      "text/plain": [
       "<Figure size 432x288 with 1 Axes>"
      ]
     },
     "metadata": {
      "needs_background": "light"
     },
     "output_type": "display_data"
    }
   ],
   "source": [
    "## Box plot of Profit data---------after avoiding outlier\n",
    "sns.boxplot(x=df['Profit'])\n",
    "plt.savefig('Box plot new Profit.jpg')"
   ]
  },
  {
   "cell_type": "markdown",
   "id": "e3cbfe1d",
   "metadata": {},
   "source": [
    "The outlier has been removed/adjusted successfully"
   ]
  },
  {
   "cell_type": "code",
   "execution_count": null,
   "id": "317e1d39",
   "metadata": {},
   "outputs": [],
   "source": []
  },
  {
   "cell_type": "code",
   "execution_count": null,
   "id": "553efae1",
   "metadata": {},
   "outputs": [],
   "source": []
  },
  {
   "cell_type": "markdown",
   "id": "5f20350d",
   "metadata": {},
   "source": [
    "Encoding : Since the data has column as states which is a categorical independent column. This categorical feature should be converted to some integral values via one hot encoding method.\n"
   ]
  },
  {
   "cell_type": "code",
   "execution_count": 103,
   "id": "7327616f",
   "metadata": {},
   "outputs": [
    {
     "data": {
      "text/plain": [
       "Index(['R&D Spend', 'Administration', 'Marketing Spend', 'State', 'Profit'], dtype='object')"
      ]
     },
     "execution_count": 103,
     "metadata": {},
     "output_type": "execute_result"
    }
   ],
   "source": [
    "df.columns"
   ]
  },
  {
   "cell_type": "code",
   "execution_count": 104,
   "id": "22749056",
   "metadata": {},
   "outputs": [
    {
     "data": {
      "text/plain": [
       "array(['New York', 'California', 'Florida'], dtype=object)"
      ]
     },
     "execution_count": 104,
     "metadata": {},
     "output_type": "execute_result"
    }
   ],
   "source": [
    "df['State'].unique()   # to check the number of categories"
   ]
  },
  {
   "cell_type": "code",
   "execution_count": 105,
   "id": "ae6f0005",
   "metadata": {},
   "outputs": [
    {
     "data": {
      "text/html": [
       "<div>\n",
       "<style scoped>\n",
       "    .dataframe tbody tr th:only-of-type {\n",
       "        vertical-align: middle;\n",
       "    }\n",
       "\n",
       "    .dataframe tbody tr th {\n",
       "        vertical-align: top;\n",
       "    }\n",
       "\n",
       "    .dataframe thead th {\n",
       "        text-align: right;\n",
       "    }\n",
       "</style>\n",
       "<table border=\"1\" class=\"dataframe\">\n",
       "  <thead>\n",
       "    <tr style=\"text-align: right;\">\n",
       "      <th></th>\n",
       "      <th>California</th>\n",
       "      <th>Florida</th>\n",
       "      <th>New York</th>\n",
       "    </tr>\n",
       "  </thead>\n",
       "  <tbody>\n",
       "    <tr>\n",
       "      <th>0</th>\n",
       "      <td>0</td>\n",
       "      <td>0</td>\n",
       "      <td>1</td>\n",
       "    </tr>\n",
       "    <tr>\n",
       "      <th>1</th>\n",
       "      <td>1</td>\n",
       "      <td>0</td>\n",
       "      <td>0</td>\n",
       "    </tr>\n",
       "    <tr>\n",
       "      <th>2</th>\n",
       "      <td>0</td>\n",
       "      <td>1</td>\n",
       "      <td>0</td>\n",
       "    </tr>\n",
       "    <tr>\n",
       "      <th>3</th>\n",
       "      <td>0</td>\n",
       "      <td>0</td>\n",
       "      <td>1</td>\n",
       "    </tr>\n",
       "    <tr>\n",
       "      <th>4</th>\n",
       "      <td>0</td>\n",
       "      <td>1</td>\n",
       "      <td>0</td>\n",
       "    </tr>\n",
       "  </tbody>\n",
       "</table>\n",
       "</div>"
      ],
      "text/plain": [
       "   California  Florida  New York\n",
       "0           0        0         1\n",
       "1           1        0         0\n",
       "2           0        1         0\n",
       "3           0        0         1\n",
       "4           0        1         0"
      ]
     },
     "execution_count": 105,
     "metadata": {},
     "output_type": "execute_result"
    }
   ],
   "source": [
    "# perform encoding\n",
    "State_new=pd.get_dummies(df['State']).astype('int')\n",
    "State_new.head()"
   ]
  },
  {
   "cell_type": "code",
   "execution_count": 106,
   "id": "7b6496c7",
   "metadata": {},
   "outputs": [
    {
     "data": {
      "text/html": [
       "<div>\n",
       "<style scoped>\n",
       "    .dataframe tbody tr th:only-of-type {\n",
       "        vertical-align: middle;\n",
       "    }\n",
       "\n",
       "    .dataframe tbody tr th {\n",
       "        vertical-align: top;\n",
       "    }\n",
       "\n",
       "    .dataframe thead th {\n",
       "        text-align: right;\n",
       "    }\n",
       "</style>\n",
       "<table border=\"1\" class=\"dataframe\">\n",
       "  <thead>\n",
       "    <tr style=\"text-align: right;\">\n",
       "      <th></th>\n",
       "      <th>R&amp;D Spend</th>\n",
       "      <th>Administration</th>\n",
       "      <th>Marketing Spend</th>\n",
       "      <th>Profit</th>\n",
       "    </tr>\n",
       "  </thead>\n",
       "  <tbody>\n",
       "    <tr>\n",
       "      <th>0</th>\n",
       "      <td>165349.20</td>\n",
       "      <td>136897.80</td>\n",
       "      <td>471784.10</td>\n",
       "      <td>192261.83</td>\n",
       "    </tr>\n",
       "    <tr>\n",
       "      <th>1</th>\n",
       "      <td>162597.70</td>\n",
       "      <td>151377.59</td>\n",
       "      <td>443898.53</td>\n",
       "      <td>191792.06</td>\n",
       "    </tr>\n",
       "    <tr>\n",
       "      <th>2</th>\n",
       "      <td>153441.51</td>\n",
       "      <td>101145.55</td>\n",
       "      <td>407934.54</td>\n",
       "      <td>191050.39</td>\n",
       "    </tr>\n",
       "    <tr>\n",
       "      <th>3</th>\n",
       "      <td>144372.41</td>\n",
       "      <td>118671.85</td>\n",
       "      <td>383199.62</td>\n",
       "      <td>182901.99</td>\n",
       "    </tr>\n",
       "    <tr>\n",
       "      <th>4</th>\n",
       "      <td>142107.34</td>\n",
       "      <td>91391.77</td>\n",
       "      <td>366168.42</td>\n",
       "      <td>166187.94</td>\n",
       "    </tr>\n",
       "  </tbody>\n",
       "</table>\n",
       "</div>"
      ],
      "text/plain": [
       "   R&D Spend  Administration  Marketing Spend     Profit\n",
       "0  165349.20       136897.80        471784.10  192261.83\n",
       "1  162597.70       151377.59        443898.53  191792.06\n",
       "2  153441.51       101145.55        407934.54  191050.39\n",
       "3  144372.41       118671.85        383199.62  182901.99\n",
       "4  142107.34        91391.77        366168.42  166187.94"
      ]
     },
     "execution_count": 106,
     "metadata": {},
     "output_type": "execute_result"
    }
   ],
   "source": [
    "# drop the state column in df data\n",
    "df=df.drop('State',axis=1)\n",
    "df.head()"
   ]
  },
  {
   "cell_type": "code",
   "execution_count": 107,
   "id": "886befc5",
   "metadata": {},
   "outputs": [
    {
     "data": {
      "text/html": [
       "<div>\n",
       "<style scoped>\n",
       "    .dataframe tbody tr th:only-of-type {\n",
       "        vertical-align: middle;\n",
       "    }\n",
       "\n",
       "    .dataframe tbody tr th {\n",
       "        vertical-align: top;\n",
       "    }\n",
       "\n",
       "    .dataframe thead th {\n",
       "        text-align: right;\n",
       "    }\n",
       "</style>\n",
       "<table border=\"1\" class=\"dataframe\">\n",
       "  <thead>\n",
       "    <tr style=\"text-align: right;\">\n",
       "      <th></th>\n",
       "      <th>R&amp;D Spend</th>\n",
       "      <th>Administration</th>\n",
       "      <th>Marketing Spend</th>\n",
       "      <th>Profit</th>\n",
       "      <th>California</th>\n",
       "      <th>Florida</th>\n",
       "      <th>New York</th>\n",
       "    </tr>\n",
       "  </thead>\n",
       "  <tbody>\n",
       "    <tr>\n",
       "      <th>0</th>\n",
       "      <td>165349.20</td>\n",
       "      <td>136897.80</td>\n",
       "      <td>471784.10</td>\n",
       "      <td>192261.83</td>\n",
       "      <td>0</td>\n",
       "      <td>0</td>\n",
       "      <td>1</td>\n",
       "    </tr>\n",
       "    <tr>\n",
       "      <th>1</th>\n",
       "      <td>162597.70</td>\n",
       "      <td>151377.59</td>\n",
       "      <td>443898.53</td>\n",
       "      <td>191792.06</td>\n",
       "      <td>1</td>\n",
       "      <td>0</td>\n",
       "      <td>0</td>\n",
       "    </tr>\n",
       "    <tr>\n",
       "      <th>2</th>\n",
       "      <td>153441.51</td>\n",
       "      <td>101145.55</td>\n",
       "      <td>407934.54</td>\n",
       "      <td>191050.39</td>\n",
       "      <td>0</td>\n",
       "      <td>1</td>\n",
       "      <td>0</td>\n",
       "    </tr>\n",
       "    <tr>\n",
       "      <th>3</th>\n",
       "      <td>144372.41</td>\n",
       "      <td>118671.85</td>\n",
       "      <td>383199.62</td>\n",
       "      <td>182901.99</td>\n",
       "      <td>0</td>\n",
       "      <td>0</td>\n",
       "      <td>1</td>\n",
       "    </tr>\n",
       "    <tr>\n",
       "      <th>4</th>\n",
       "      <td>142107.34</td>\n",
       "      <td>91391.77</td>\n",
       "      <td>366168.42</td>\n",
       "      <td>166187.94</td>\n",
       "      <td>0</td>\n",
       "      <td>1</td>\n",
       "      <td>0</td>\n",
       "    </tr>\n",
       "  </tbody>\n",
       "</table>\n",
       "</div>"
      ],
      "text/plain": [
       "   R&D Spend  Administration  Marketing Spend     Profit  California  Florida  \\\n",
       "0  165349.20       136897.80        471784.10  192261.83           0        0   \n",
       "1  162597.70       151377.59        443898.53  191792.06           1        0   \n",
       "2  153441.51       101145.55        407934.54  191050.39           0        1   \n",
       "3  144372.41       118671.85        383199.62  182901.99           0        0   \n",
       "4  142107.34        91391.77        366168.42  166187.94           0        1   \n",
       "\n",
       "   New York  \n",
       "0         1  \n",
       "1         0  \n",
       "2         0  \n",
       "3         1  \n",
       "4         0  "
      ]
     },
     "execution_count": 107,
     "metadata": {},
     "output_type": "execute_result"
    }
   ],
   "source": [
    "## Concatenate this data with the previous one\n",
    "df1=pd.concat([df,State_new],axis=1)\n",
    "df1.head()"
   ]
  },
  {
   "cell_type": "markdown",
   "id": "6b0391c2",
   "metadata": {},
   "source": [
    "### Model: Multiple Linear Regression"
   ]
  },
  {
   "cell_type": "markdown",
   "id": "ee2ad9c4",
   "metadata": {},
   "source": [
    "---------Sampling of data----------"
   ]
  },
  {
   "cell_type": "code",
   "execution_count": 108,
   "id": "1a4b24e5",
   "metadata": {},
   "outputs": [
    {
     "data": {
      "text/plain": [
       "Index(['R&D Spend', 'Administration', 'Marketing Spend', 'Profit',\n",
       "       'California', 'Florida', 'New York'],\n",
       "      dtype='object')"
      ]
     },
     "execution_count": 108,
     "metadata": {},
     "output_type": "execute_result"
    }
   ],
   "source": [
    "df1.columns"
   ]
  },
  {
   "cell_type": "code",
   "execution_count": 109,
   "id": "234b4876",
   "metadata": {},
   "outputs": [],
   "source": [
    "x=df1[['R&D Spend', 'Administration', 'Marketing Spend','California', 'Florida', 'New York']]\n",
    "y=df1['Profit']"
   ]
  },
  {
   "cell_type": "code",
   "execution_count": 110,
   "id": "d1c307e8",
   "metadata": {},
   "outputs": [],
   "source": [
    "# standardization of data\n",
    "from sklearn.preprocessing import StandardScaler\n",
    "sc=StandardScaler()"
   ]
  },
  {
   "cell_type": "code",
   "execution_count": 111,
   "id": "97e8fe72",
   "metadata": {},
   "outputs": [],
   "source": [
    "x_sc=sc.fit_transform(x)"
   ]
  },
  {
   "cell_type": "code",
   "execution_count": 112,
   "id": "01c3a18b",
   "metadata": {},
   "outputs": [],
   "source": [
    "from sklearn.model_selection import train_test_split"
   ]
  },
  {
   "cell_type": "code",
   "execution_count": 113,
   "id": "3f33bce7",
   "metadata": {},
   "outputs": [],
   "source": [
    "x_train,x_test,y_train,y_test=train_test_split(x_sc,y,train_size=0.8,random_state=1)"
   ]
  },
  {
   "cell_type": "code",
   "execution_count": 114,
   "id": "d53d2590",
   "metadata": {},
   "outputs": [
    {
     "data": {
      "text/plain": [
       "((40, 6), (10, 6))"
      ]
     },
     "execution_count": 114,
     "metadata": {},
     "output_type": "execute_result"
    }
   ],
   "source": [
    "x_train.shape,x_test.shape"
   ]
  },
  {
   "cell_type": "code",
   "execution_count": 115,
   "id": "76f70d42",
   "metadata": {},
   "outputs": [
    {
     "data": {
      "text/plain": [
       "((40,), (10,))"
      ]
     },
     "execution_count": 115,
     "metadata": {},
     "output_type": "execute_result"
    }
   ],
   "source": [
    "y_train.shape,y_test.shape"
   ]
  },
  {
   "cell_type": "markdown",
   "id": "bff56a8b",
   "metadata": {},
   "source": [
    "----------------Model Building--------------"
   ]
  },
  {
   "cell_type": "code",
   "execution_count": 116,
   "id": "ad7bf00a",
   "metadata": {},
   "outputs": [],
   "source": [
    "from sklearn.linear_model import LinearRegression"
   ]
  },
  {
   "cell_type": "code",
   "execution_count": 117,
   "id": "31868120",
   "metadata": {},
   "outputs": [],
   "source": [
    "model = LinearRegression()"
   ]
  },
  {
   "cell_type": "code",
   "execution_count": 118,
   "id": "e3fa0a0d",
   "metadata": {},
   "outputs": [],
   "source": [
    "model_fit = model.fit(x_train,y_train)"
   ]
  },
  {
   "cell_type": "code",
   "execution_count": 119,
   "id": "115e4622",
   "metadata": {},
   "outputs": [
    {
     "name": "stdout",
     "output_type": "stream",
     "text": [
      "The coefficient of the fitted data is:  [ 3.51410519e+04 -2.58977289e+02  3.50369585e+03 -1.18865137e+02\n",
      "  1.31183692e+02 -1.03156321e+01]\n"
     ]
    }
   ],
   "source": [
    "# Coefficient \n",
    "print('The coefficient of the fitted data is: ', model_fit.coef_)"
   ]
  },
  {
   "cell_type": "code",
   "execution_count": 120,
   "id": "66de3caa",
   "metadata": {},
   "outputs": [
    {
     "name": "stdout",
     "output_type": "stream",
     "text": [
      "The intercept of the fitted data is:  111897.58554471766\n"
     ]
    }
   ],
   "source": [
    "# Intercept\n",
    "print('The intercept of the fitted data is: ', model_fit.intercept_)"
   ]
  },
  {
   "cell_type": "markdown",
   "id": "fd544817",
   "metadata": {},
   "source": [
    "------------Model Prediction--------------"
   ]
  },
  {
   "cell_type": "code",
   "execution_count": 121,
   "id": "f33897da",
   "metadata": {},
   "outputs": [
    {
     "data": {
      "text/plain": [
       "array([114683.77300878,  90630.80031651,  75794.3240149 ,  70282.99316397,\n",
       "       179719.18257597, 171523.21888651,  49828.70772879, 102299.53454446,\n",
       "        58730.49534114,  98298.92765485])"
      ]
     },
     "execution_count": 121,
     "metadata": {},
     "output_type": "execute_result"
    }
   ],
   "source": [
    "pred=model_fit.predict(x_test)\n",
    "pred"
   ]
  },
  {
   "cell_type": "code",
   "execution_count": 122,
   "id": "25d6e3a7",
   "metadata": {},
   "outputs": [
    {
     "data": {
      "text/html": [
       "<div>\n",
       "<style scoped>\n",
       "    .dataframe tbody tr th:only-of-type {\n",
       "        vertical-align: middle;\n",
       "    }\n",
       "\n",
       "    .dataframe tbody tr th {\n",
       "        vertical-align: top;\n",
       "    }\n",
       "\n",
       "    .dataframe thead th {\n",
       "        text-align: right;\n",
       "    }\n",
       "</style>\n",
       "<table border=\"1\" class=\"dataframe\">\n",
       "  <thead>\n",
       "    <tr style=\"text-align: right;\">\n",
       "      <th></th>\n",
       "      <th>predicted</th>\n",
       "    </tr>\n",
       "  </thead>\n",
       "  <tbody>\n",
       "    <tr>\n",
       "      <th>0</th>\n",
       "      <td>114683.773009</td>\n",
       "    </tr>\n",
       "    <tr>\n",
       "      <th>1</th>\n",
       "      <td>90630.800317</td>\n",
       "    </tr>\n",
       "    <tr>\n",
       "      <th>2</th>\n",
       "      <td>75794.324015</td>\n",
       "    </tr>\n",
       "    <tr>\n",
       "      <th>3</th>\n",
       "      <td>70282.993164</td>\n",
       "    </tr>\n",
       "    <tr>\n",
       "      <th>4</th>\n",
       "      <td>179719.182576</td>\n",
       "    </tr>\n",
       "    <tr>\n",
       "      <th>5</th>\n",
       "      <td>171523.218887</td>\n",
       "    </tr>\n",
       "    <tr>\n",
       "      <th>6</th>\n",
       "      <td>49828.707729</td>\n",
       "    </tr>\n",
       "    <tr>\n",
       "      <th>7</th>\n",
       "      <td>102299.534544</td>\n",
       "    </tr>\n",
       "    <tr>\n",
       "      <th>8</th>\n",
       "      <td>58730.495341</td>\n",
       "    </tr>\n",
       "    <tr>\n",
       "      <th>9</th>\n",
       "      <td>98298.927655</td>\n",
       "    </tr>\n",
       "  </tbody>\n",
       "</table>\n",
       "</div>"
      ],
      "text/plain": [
       "       predicted\n",
       "0  114683.773009\n",
       "1   90630.800317\n",
       "2   75794.324015\n",
       "3   70282.993164\n",
       "4  179719.182576\n",
       "5  171523.218887\n",
       "6   49828.707729\n",
       "7  102299.534544\n",
       "8   58730.495341\n",
       "9   98298.927655"
      ]
     },
     "execution_count": 122,
     "metadata": {},
     "output_type": "execute_result"
    }
   ],
   "source": [
    "dd=pd.DataFrame(pred,columns=['predicted'])\n",
    "dd"
   ]
  },
  {
   "cell_type": "code",
   "execution_count": 123,
   "id": "86d4b25b",
   "metadata": {},
   "outputs": [],
   "source": [
    "dd['Actual']=y_test.values"
   ]
  },
  {
   "cell_type": "code",
   "execution_count": 124,
   "id": "86578bdb",
   "metadata": {},
   "outputs": [
    {
     "data": {
      "text/html": [
       "<div>\n",
       "<style scoped>\n",
       "    .dataframe tbody tr th:only-of-type {\n",
       "        vertical-align: middle;\n",
       "    }\n",
       "\n",
       "    .dataframe tbody tr th {\n",
       "        vertical-align: top;\n",
       "    }\n",
       "\n",
       "    .dataframe thead th {\n",
       "        text-align: right;\n",
       "    }\n",
       "</style>\n",
       "<table border=\"1\" class=\"dataframe\">\n",
       "  <thead>\n",
       "    <tr style=\"text-align: right;\">\n",
       "      <th></th>\n",
       "      <th>predicted</th>\n",
       "      <th>Actual</th>\n",
       "    </tr>\n",
       "  </thead>\n",
       "  <tbody>\n",
       "    <tr>\n",
       "      <th>0</th>\n",
       "      <td>114683.773009</td>\n",
       "      <td>105008.31</td>\n",
       "    </tr>\n",
       "    <tr>\n",
       "      <th>1</th>\n",
       "      <td>90630.800317</td>\n",
       "      <td>96479.51</td>\n",
       "    </tr>\n",
       "    <tr>\n",
       "      <th>2</th>\n",
       "      <td>75794.324015</td>\n",
       "      <td>78239.91</td>\n",
       "    </tr>\n",
       "    <tr>\n",
       "      <th>3</th>\n",
       "      <td>70282.993164</td>\n",
       "      <td>81229.06</td>\n",
       "    </tr>\n",
       "    <tr>\n",
       "      <th>4</th>\n",
       "      <td>179719.182576</td>\n",
       "      <td>191050.39</td>\n",
       "    </tr>\n",
       "    <tr>\n",
       "      <th>5</th>\n",
       "      <td>171523.218887</td>\n",
       "      <td>182901.99</td>\n",
       "    </tr>\n",
       "    <tr>\n",
       "      <th>6</th>\n",
       "      <td>49828.707729</td>\n",
       "      <td>35673.41</td>\n",
       "    </tr>\n",
       "    <tr>\n",
       "      <th>7</th>\n",
       "      <td>102299.534544</td>\n",
       "      <td>101004.64</td>\n",
       "    </tr>\n",
       "    <tr>\n",
       "      <th>8</th>\n",
       "      <td>58730.495341</td>\n",
       "      <td>49490.75</td>\n",
       "    </tr>\n",
       "    <tr>\n",
       "      <th>9</th>\n",
       "      <td>98298.927655</td>\n",
       "      <td>97483.56</td>\n",
       "    </tr>\n",
       "  </tbody>\n",
       "</table>\n",
       "</div>"
      ],
      "text/plain": [
       "       predicted     Actual\n",
       "0  114683.773009  105008.31\n",
       "1   90630.800317   96479.51\n",
       "2   75794.324015   78239.91\n",
       "3   70282.993164   81229.06\n",
       "4  179719.182576  191050.39\n",
       "5  171523.218887  182901.99\n",
       "6   49828.707729   35673.41\n",
       "7  102299.534544  101004.64\n",
       "8   58730.495341   49490.75\n",
       "9   98298.927655   97483.56"
      ]
     },
     "execution_count": 124,
     "metadata": {},
     "output_type": "execute_result"
    }
   ],
   "source": [
    "dd"
   ]
  },
  {
   "cell_type": "markdown",
   "id": "c9016753",
   "metadata": {},
   "source": [
    "-------------Error Calculation---------------"
   ]
  },
  {
   "cell_type": "code",
   "execution_count": 125,
   "id": "be9947ad",
   "metadata": {},
   "outputs": [
    {
     "name": "stdout",
     "output_type": "stream",
     "text": [
      "Model: Linear Regression\n",
      "The strength of the model is: 0.965\n",
      "The mean squared error value of the model is : 79957887.718\n",
      "The mean absolute error value of the model is : 7713.111\n",
      "The root mean square value of the model is : 8941.917\n"
     ]
    }
   ],
   "source": [
    "# R square value, MSE, RMSE, MAE\n",
    "from sklearn.metrics import r2_score,mean_squared_error,mean_absolute_error,accuracy_score\n",
    "from math import sqrt\n",
    "\n",
    "print('Model: Linear Regression')\n",
    "print('The strength of the model is:',round((r2_score(dd['Actual'],dd['predicted'])),3))\n",
    "print('The mean squared error value of the model is :',round((mean_squared_error(dd['Actual'],dd['predicted'])),3))\n",
    "print('The mean absolute error value of the model is :',round((mean_absolute_error(dd['Actual'],dd['predicted'])),3))\n",
    "RMSE= sqrt(mean_squared_error(dd['Actual'],dd['predicted']))\n",
    "print('The root mean square value of the model is :',round(RMSE,3))\n"
   ]
  },
  {
   "cell_type": "markdown",
   "id": "ebd890e9",
   "metadata": {},
   "source": [
    "1. The strength of the model is very strong since r square value lies between 0 and 1.\n",
    "2. strongest when approaches 1 and weakest when approaches 0.\n",
    "3. 0.965 value of r square implies very strong model"
   ]
  },
  {
   "cell_type": "code",
   "execution_count": null,
   "id": "e6258b0a",
   "metadata": {},
   "outputs": [],
   "source": [
    "## accuracy_score"
   ]
  },
  {
   "cell_type": "code",
   "execution_count": null,
   "id": "f05aa424",
   "metadata": {},
   "outputs": [],
   "source": []
  },
  {
   "cell_type": "markdown",
   "id": "1a376dae",
   "metadata": {},
   "source": [
    "### Model: Ridge or L2 Regression"
   ]
  },
  {
   "cell_type": "code",
   "execution_count": 126,
   "id": "84da5e78",
   "metadata": {},
   "outputs": [],
   "source": [
    "from sklearn.linear_model import Ridge\n",
    "model_R = Ridge()"
   ]
  },
  {
   "cell_type": "code",
   "execution_count": 127,
   "id": "f201cc70",
   "metadata": {},
   "outputs": [
    {
     "data": {
      "text/plain": [
       "array([117219.38176695,  91754.33692361,  77524.97338395,  72078.4752233 ,\n",
       "       177996.03260654, 170677.55678908,  49925.08086569, 102404.85663939,\n",
       "        63417.09917854,  98373.89937539])"
      ]
     },
     "execution_count": 127,
     "metadata": {},
     "output_type": "execute_result"
    }
   ],
   "source": [
    "model_R_fit = model_R.fit(x_train,y_train)\n",
    "pred_R = model_R_fit.predict(x_test)\n",
    "pred_R"
   ]
  },
  {
   "cell_type": "code",
   "execution_count": 128,
   "id": "a836ae3b",
   "metadata": {},
   "outputs": [
    {
     "name": "stdout",
     "output_type": "stream",
     "text": [
      "Model: Ridge\n",
      "The strength of the model is: 0.941\n",
      "The mean squared error value of the model is : 97534151.945\n",
      "The mean absolute error value of the model is : 8254.913\n",
      "The root mean square value of the model is : 9875.938\n"
     ]
    }
   ],
   "source": [
    "print('Model: Ridge')\n",
    "print('The strength of the model is:',round((r2_score(pred_R,y_test)),3))\n",
    "print('The mean squared error value of the model is :',round((mean_squared_error(pred_R,y_test)),3))\n",
    "print('The mean absolute error value of the model is :',round((mean_absolute_error(pred_R,y_test)),3))\n",
    "RMSE= sqrt(mean_squared_error(pred_R,y_test))\n",
    "print('The root mean square value of the model is :',round(RMSE,3))"
   ]
  },
  {
   "cell_type": "markdown",
   "id": "88a4643d",
   "metadata": {},
   "source": [
    "### Model: Lasso or L1 Regression"
   ]
  },
  {
   "cell_type": "code",
   "execution_count": 129,
   "id": "9ef3e396",
   "metadata": {},
   "outputs": [],
   "source": [
    "from sklearn.linear_model import Lasso\n",
    "model_L = Lasso()"
   ]
  },
  {
   "cell_type": "code",
   "execution_count": 130,
   "id": "edfd9ce4",
   "metadata": {},
   "outputs": [
    {
     "data": {
      "text/plain": [
       "array([114684.78276968,  90629.8945918 ,  75796.59936958,  70281.89448475,\n",
       "       179714.6958633 , 171521.28080313,  49826.88249769, 102301.2672616 ,\n",
       "        58731.79264705,  98300.73378037])"
      ]
     },
     "execution_count": 130,
     "metadata": {},
     "output_type": "execute_result"
    }
   ],
   "source": [
    "model_L_fit = model_L.fit(x_train,y_train)\n",
    "pred_L = model_L_fit.predict(x_test)\n",
    "pred_L"
   ]
  },
  {
   "cell_type": "code",
   "execution_count": 131,
   "id": "adbe9a37",
   "metadata": {},
   "outputs": [
    {
     "name": "stdout",
     "output_type": "stream",
     "text": [
      "Model: Lasso\n",
      "The strength of the model is: 0.954\n",
      "The mean squared error value of the model is : 79974749.692\n",
      "The mean absolute error value of the model is : 7714.128\n",
      "The root mean square value of the model is : 8942.86\n"
     ]
    }
   ],
   "source": [
    "print('Model: Lasso')\n",
    "print('The strength of the model is:',round((r2_score(pred_L,y_test)),3))\n",
    "print('The mean squared error value of the model is :',round((mean_squared_error(pred_L,y_test)),3))\n",
    "print('The mean absolute error value of the model is :',round((mean_absolute_error(pred_L,y_test)),3))\n",
    "RMSE= sqrt(mean_squared_error(pred_L,y_test))\n",
    "print('The root mean square value of the model is :',round(RMSE,3))"
   ]
  },
  {
   "cell_type": "code",
   "execution_count": 132,
   "id": "a6c8f195",
   "metadata": {},
   "outputs": [],
   "source": [
    "# Inference"
   ]
  },
  {
   "cell_type": "markdown",
   "id": "c93fb227",
   "metadata": {},
   "source": [
    "-------------Saving the Model------------"
   ]
  },
  {
   "cell_type": "code",
   "execution_count": 69,
   "id": "017d2893",
   "metadata": {},
   "outputs": [],
   "source": [
    "import joblib"
   ]
  },
  {
   "cell_type": "code",
   "execution_count": 70,
   "id": "a961d7f3",
   "metadata": {},
   "outputs": [],
   "source": [
    "filename='50_startups_data_prj3.sav'"
   ]
  },
  {
   "cell_type": "code",
   "execution_count": 71,
   "id": "8b10cb6d",
   "metadata": {},
   "outputs": [
    {
     "data": {
      "text/plain": [
       "['50_startups_data_prj3.sav']"
      ]
     },
     "execution_count": 71,
     "metadata": {},
     "output_type": "execute_result"
    }
   ],
   "source": [
    "joblib.dump(model_fit,filename)"
   ]
  },
  {
   "cell_type": "code",
   "execution_count": null,
   "id": "fc8919d1",
   "metadata": {},
   "outputs": [],
   "source": []
  }
 ],
 "metadata": {
  "kernelspec": {
   "display_name": "Python 3 (ipykernel)",
   "language": "python",
   "name": "python3"
  },
  "language_info": {
   "codemirror_mode": {
    "name": "ipython",
    "version": 3
   },
   "file_extension": ".py",
   "mimetype": "text/x-python",
   "name": "python",
   "nbconvert_exporter": "python",
   "pygments_lexer": "ipython3",
   "version": "3.9.12"
  }
 },
 "nbformat": 4,
 "nbformat_minor": 5
}
